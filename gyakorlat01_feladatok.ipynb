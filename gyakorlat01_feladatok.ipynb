{
    "metadata": {
        "kernelspec": {
            "name": "SQL",
            "display_name": "SQL",
            "language": "sql"
        },
        "language_info": {
            "name": "sql",
            "version": ""
        },
        "extensions": {
            "azuredatastudio": {
                "version": 1,
                "views": []
            }
        }
    },
    "nbformat_minor": 2,
    "nbformat": 4,
    "cells": [
        {
            "cell_type": "markdown",
            "source": [
                "1. Listázzuk a <span style=\"color: #800000;\">`kolcsonzes`</span> tábla következő oszlopait: ID, ki\\_datum, vissza\\_datum! \n",
                "\n",
                "  \n",
                "\n",
                "a.  Az ID oszlop neve legyen Azonosító\n",
                "\n",
                "b.  A ki\\_datum oszlop neve legyen Kölcsönzés\\_dátuma\n",
                "\n",
                "c.  A vissza\\_datum oszlop neve legyen Visszahozatal\\_dátuma"
            ],
            "metadata": {
                "azdata_cell_guid": "77f2d5b3-38e9-41cc-893f-f5afd02b97ef"
            },
            "attachments": {}
        },
        {
            "cell_type": "code",
            "source": [
                "SELECT  ID AS 'Azonosító', -- A kölcönzés azonosítója \r\n",
                "        ki_datum AS 'Kölcsönzés_dátuma', \r\n",
                "        vissza_datum AS 'Visszahozatal_dátuma'\r\n",
                "FROM kolcsonzesek"
            ],
            "metadata": {
                "azdata_cell_guid": "bd3cef1a-4e6e-4ece-9dc3-aaa9d2b5d66d",
                "language": "sql"
            },
            "outputs": [
                {
                    "output_type": "display_data",
                    "data": {
                        "text/html": "(5 rows affected)"
                    },
                    "metadata": {}
                },
                {
                    "output_type": "display_data",
                    "data": {
                        "text/html": "Total execution time: 00:00:00.057"
                    },
                    "metadata": {}
                },
                {
                    "output_type": "execute_result",
                    "metadata": {},
                    "execution_count": 1,
                    "data": {
                        "application/vnd.dataresource+json": {
                            "schema": {
                                "fields": [
                                    {
                                        "name": "Azonosító"
                                    },
                                    {
                                        "name": "Kölcsönzés_dátuma"
                                    },
                                    {
                                        "name": "Visszahozatal_dátuma"
                                    }
                                ]
                            },
                            "data": [
                                {
                                    "Azonosító": "10",
                                    "Kölcsönzés_dátuma": "2003-12-11",
                                    "Visszahozatal_dátuma": "NULL"
                                },
                                {
                                    "Azonosító": "11",
                                    "Kölcsönzés_dátuma": "2003-12-11",
                                    "Visszahozatal_dátuma": "NULL"
                                },
                                {
                                    "Azonosító": "12",
                                    "Kölcsönzés_dátuma": "2003-12-11",
                                    "Visszahozatal_dátuma": "NULL"
                                },
                                {
                                    "Azonosító": "13",
                                    "Kölcsönzés_dátuma": "2006-10-01",
                                    "Visszahozatal_dátuma": "2006-10-10"
                                },
                                {
                                    "Azonosító": "14",
                                    "Kölcsönzés_dátuma": "2006-10-02",
                                    "Visszahozatal_dátuma": "2006-10-09"
                                }
                            ]
                        },
                        "text/html": [
                            "<table>",
                            "<tr><th>Azonosító</th><th>Kölcsönzés_dátuma</th><th>Visszahozatal_dátuma</th></tr>",
                            "<tr><td>10</td><td>2003-12-11</td><td>NULL</td></tr>",
                            "<tr><td>11</td><td>2003-12-11</td><td>NULL</td></tr>",
                            "<tr><td>12</td><td>2003-12-11</td><td>NULL</td></tr>",
                            "<tr><td>13</td><td>2006-10-01</td><td>2006-10-10</td></tr>",
                            "<tr><td>14</td><td>2006-10-02</td><td>2006-10-09</td></tr>",
                            "</table>"
                        ]
                    }
                }
            ],
            "execution_count": 1
        },
        {
            "cell_type": "markdown",
            "source": [
                "2. Melyek azok a kölcsönzések, amelyek 2005.01.01 és 2007.01.01 között történtek?"
            ],
            "metadata": {
                "azdata_cell_guid": "88f5b4bb-f4c1-4bad-a0c7-b2592687b422"
            },
            "attachments": {}
        },
        {
            "cell_type": "code",
            "source": [
                "SELECT *\r\n",
                "FROM kolcsonzesek\r\n",
                "WHERE ki_datum >= '2005.01.01' AND ki_datum <= '2007.01.01'"
            ],
            "metadata": {
                "azdata_cell_guid": "e9de5726-f036-4fb9-8c33-a873955ed886",
                "language": "sql"
            },
            "outputs": [
                {
                    "output_type": "display_data",
                    "data": {
                        "text/html": "(2 rows affected)"
                    },
                    "metadata": {}
                },
                {
                    "output_type": "display_data",
                    "data": {
                        "text/html": "Total execution time: 00:00:00.006"
                    },
                    "metadata": {}
                },
                {
                    "output_type": "execute_result",
                    "metadata": {},
                    "execution_count": 2,
                    "data": {
                        "application/vnd.dataresource+json": {
                            "schema": {
                                "fields": [
                                    {
                                        "name": "ID"
                                    },
                                    {
                                        "name": "ki"
                                    },
                                    {
                                        "name": "mit"
                                    },
                                    {
                                        "name": "ki_datum"
                                    },
                                    {
                                        "name": "vissza_datum"
                                    }
                                ]
                            },
                            "data": [
                                {
                                    "ID": "13",
                                    "ki": "1",
                                    "mit": "3",
                                    "ki_datum": "2006-10-01",
                                    "vissza_datum": "2006-10-10"
                                },
                                {
                                    "ID": "14",
                                    "ki": "2",
                                    "mit": "3",
                                    "ki_datum": "2006-10-02",
                                    "vissza_datum": "2006-10-09"
                                }
                            ]
                        },
                        "text/html": [
                            "<table>",
                            "<tr><th>ID</th><th>ki</th><th>mit</th><th>ki_datum</th><th>vissza_datum</th></tr>",
                            "<tr><td>13</td><td>1</td><td>3</td><td>2006-10-01</td><td>2006-10-10</td></tr>",
                            "<tr><td>14</td><td>2</td><td>3</td><td>2006-10-02</td><td>2006-10-09</td></tr>",
                            "</table>"
                        ]
                    }
                }
            ],
            "execution_count": 2
        },
        {
            "cell_type": "markdown",
            "source": [
                "3. Melyek azok a tagok, akiknek kedvenc stílusa a játék, és nevük a-ra végződik?\n",
                "\n",
                "  \n",
                "\n",
                "a.  Csak a tagok neve jelenjen meg, az oszlop neve Név legyen"
            ],
            "metadata": {
                "azdata_cell_guid": "9e7249de-1b59-43d8-84b1-26fa7d81fc5a"
            },
            "attachments": {}
        },
        {
            "cell_type": "code",
            "source": [
                "SELECT nev as  'Név'\r\n",
                "FROM tagok\r\n",
                "where kedvencstilus = 'játék'\r\n",
                "and nev LIKE '%a'"
            ],
            "metadata": {
                "azdata_cell_guid": "6405d3e8-a9b1-45d7-aa76-3b1e785ef6cc",
                "language": "sql"
            },
            "outputs": [
                {
                    "output_type": "display_data",
                    "data": {
                        "text/html": "(2 rows affected)"
                    },
                    "metadata": {}
                },
                {
                    "output_type": "display_data",
                    "data": {
                        "text/html": "Total execution time: 00:00:00.014"
                    },
                    "metadata": {}
                },
                {
                    "output_type": "execute_result",
                    "metadata": {},
                    "execution_count": 3,
                    "data": {
                        "application/vnd.dataresource+json": {
                            "schema": {
                                "fields": [
                                    {
                                        "name": "Név"
                                    }
                                ]
                            },
                            "data": [
                                {
                                    "Név": "Bodó Kinga"
                                },
                                {
                                    "Név": "Garay Magdolna"
                                }
                            ]
                        },
                        "text/html": [
                            "<table>",
                            "<tr><th>Név</th></tr>",
                            "<tr><td>Bodó Kinga</td></tr>",
                            "<tr><td>Garay Magdolna</td></tr>",
                            "</table>"
                        ]
                    }
                }
            ],
            "execution_count": 3
        },
        {
            "cell_type": "markdown",
            "source": [
                "4. Listázzuk egy oszlopban a tagok nevét, címét és kedvenc stílusát összefűzve! \n",
                "\n",
                "  \n",
                "\n",
                "a.  A nevet, címet és a stílust kötőjellel válasszuk el\n",
                "\n",
                "b.  A kötőjelek előtt és után legyen 1-1 szóköz\n",
                "\n",
                "c.  Az oszlop neve legyen TAG\n",
                "\n",
                "d.  Kinga keresztnevű tagok ne legyenek benne a listában"
            ],
            "metadata": {
                "azdata_cell_guid": "6478e469-c094-472c-a772-ccd5b5c61516"
            },
            "attachments": {}
        },
        {
            "cell_type": "code",
            "source": [
                "SELECT nev + ' - ' + cim + ' - ' + kedvencstilus AS 'TAG'\r\n",
                "FROM tagok\r\n",
                "WHERE nev NOT LIKE '%Kinga%'"
            ],
            "metadata": {
                "azdata_cell_guid": "02031ea2-3838-458d-839c-228e3b362b61",
                "language": "sql"
            },
            "outputs": [
                {
                    "output_type": "display_data",
                    "data": {
                        "text/html": "(15 rows affected)"
                    },
                    "metadata": {}
                },
                {
                    "output_type": "display_data",
                    "data": {
                        "text/html": "Total execution time: 00:00:00.011"
                    },
                    "metadata": {}
                },
                {
                    "output_type": "execute_result",
                    "metadata": {},
                    "execution_count": 5,
                    "data": {
                        "application/vnd.dataresource+json": {
                            "schema": {
                                "fields": [
                                    {
                                        "name": "TAG"
                                    }
                                ]
                            },
                            "data": [
                                {
                                    "TAG": "Bakk Csaba József - Ulászló u. 22. - játék"
                                },
                                {
                                    "TAG": "Kollár Zsófia - Tenkes u. 7/a I/4. - történelem"
                                },
                                {
                                    "TAG": "Mohai Mónika - Pasaréti út 23. - történelem"
                                },
                                {
                                    "TAG": "Ivicsics Miklós - Mészöly u. 4.  - sport"
                                },
                                {
                                    "TAG": "Braiwish Dalal-Brigitte - Kosztolányi tér 7. - földrajz"
                                },
                                {
                                    "TAG": "Hajnáczky Gábor - Kende u. 14. - történelem"
                                },
                                {
                                    "TAG": "Lázár Gergely - Halom u. 15. - játék"
                                },
                                {
                                    "TAG": "Göttinger Pál - Forrás tér 14. - sport"
                                },
                                {
                                    "TAG": "Bernáth Margit - Felsővár u. 55/c - történelem"
                                },
                                {
                                    "TAG": "Garay Magdolna - Bartók B. út 66. - játék"
                                },
                                {
                                    "TAG": "Ligeti Orsolya - Bartók B. u. 61. I/6. - sport"
                                },
                                {
                                    "TAG": "Király Róbert - Bajcsy Zs. u. 19/b - földrajz"
                                },
                                {
                                    "TAG": "Burai-Kovács Anikó - Bajcsy u. 1. - sport"
                                },
                                {
                                    "TAG": "Czimmermann Zsolt - Árpád u. 3. - földrajz"
                                },
                                {
                                    "TAG": "Boronkay Péter - Ábel Jenő  u. 31. - földrajz"
                                }
                            ]
                        },
                        "text/html": [
                            "<table>",
                            "<tr><th>TAG</th></tr>",
                            "<tr><td>Bakk Csaba József - Ulászló u. 22. - játék</td></tr>",
                            "<tr><td>Kollár Zsófia - Tenkes u. 7/a I/4. - történelem</td></tr>",
                            "<tr><td>Mohai Mónika - Pasaréti út 23. - történelem</td></tr>",
                            "<tr><td>Ivicsics Miklós - Mészöly u. 4.  - sport</td></tr>",
                            "<tr><td>Braiwish Dalal-Brigitte - Kosztolányi tér 7. - földrajz</td></tr>",
                            "<tr><td>Hajnáczky Gábor - Kende u. 14. - történelem</td></tr>",
                            "<tr><td>Lázár Gergely - Halom u. 15. - játék</td></tr>",
                            "<tr><td>Göttinger Pál - Forrás tér 14. - sport</td></tr>",
                            "<tr><td>Bernáth Margit - Felsővár u. 55/c - történelem</td></tr>",
                            "<tr><td>Garay Magdolna - Bartók B. út 66. - játék</td></tr>",
                            "<tr><td>Ligeti Orsolya - Bartók B. u. 61. I/6. - sport</td></tr>",
                            "<tr><td>Király Róbert - Bajcsy Zs. u. 19/b - földrajz</td></tr>",
                            "<tr><td>Burai-Kovács Anikó - Bajcsy u. 1. - sport</td></tr>",
                            "<tr><td>Czimmermann Zsolt - Árpád u. 3. - földrajz</td></tr>",
                            "<tr><td>Boronkay Péter - Ábel Jenő  u. 31. - földrajz</td></tr>",
                            "</table>"
                        ]
                    }
                }
            ],
            "execution_count": 5
        },
        {
            "cell_type": "markdown",
            "source": [
                "5. Mennyi lenne a dvd-k nettó ára, ha 20%-kal csökkenne? \n",
                "\n",
                "  \n",
                "\n",
                "a.  Csak a dvd-k címét és a csökkentett árat jelenítsük meg\n",
                "\n",
                "b.  A csökkentett árat nevezzük el diszkont\\_ar-nak"
            ],
            "metadata": {
                "azdata_cell_guid": "9edbbaf9-c276-4898-9a01-e1b2993c089f"
            },
            "attachments": {}
        },
        {
            "cell_type": "code",
            "source": [
                "SELECT  cim,\r\n",
                "        nettoar * 0.8 AS 'diszkont_ar'\r\n",
                "FROM dvd        "
            ],
            "metadata": {
                "azdata_cell_guid": "5ad5fdcb-2878-4111-861a-833bcd50e935",
                "language": "sql"
            },
            "outputs": [
                {
                    "output_type": "display_data",
                    "data": {
                        "text/html": "(318 rows affected)"
                    },
                    "metadata": {}
                },
                {
                    "output_type": "display_data",
                    "data": {
                        "text/html": "Total execution time: 00:00:00.057"
                    },
                    "metadata": {}
                },
                {
                    "output_type": "execute_result",
                    "metadata": {},
                    "execution_count": 4,
                    "data": {
                        "application/vnd.dataresource+json": {
                            "schema": {
                                "fields": [
                                    {
                                        "name": "cim"
                                    },
                                    {
                                        "name": "diszkont_ar"
                                    },
                                    {
                                        "name": "nettoar"
                                    }
                                ]
                            },
                            "data": [
                                {
                                    "cim": "NULL",
                                    "diszkont_ar": "3087,2000000000003",
                                    "nettoar": "3859"
                                },
                                {
                                    "cim": "A II. világháború története (1999)",
                                    "diszkont_ar": "3395,2000000000003",
                                    "nettoar": "4244"
                                },
                                {
                                    "cim": "3D Dinosaur - adventure",
                                    "diszkont_ar": "4032,8",
                                    "nettoar": "5041"
                                },
                                {
                                    "cim": "3D virtuális origami (2000)",
                                    "diszkont_ar": "4284",
                                    "nettoar": "5355"
                                },
                                {
                                    "cim": "Az 1848-1849-iki szabadságharc története (2002)",
                                    "diszkont_ar": "4560",
                                    "nettoar": "5700"
                                },
                                {
                                    "cim": "Ablak zsiráf (1999)",
                                    "diszkont_ar": "2832",
                                    "nettoar": "3540"
                                },
                                {
                                    "cim": "Ady Endre összes művei (1999)",
                                    "diszkont_ar": "3392,8",
                                    "nettoar": "4241"
                                },
                                {
                                    "cim": "Afrika",
                                    "diszkont_ar": "4254,400000000001",
                                    "nettoar": "5318"
                                },
                                {
                                    "cim": "Age of Empires (2000)",
                                    "diszkont_ar": "3585,6000000000004",
                                    "nettoar": "4482"
                                },
                                {
                                    "cim": "Airport Inc.",
                                    "diszkont_ar": "3448,8",
                                    "nettoar": "4311"
                                },
                                {
                                    "cim": "American Rodeo : BullRider 2000 (2001)",
                                    "diszkont_ar": "4472,8",
                                    "nettoar": "5591"
                                },
                                {
                                    "cim": "Angol : 8-10 éveseknek (2002)",
                                    "diszkont_ar": "3882,4",
                                    "nettoar": "4853"
                                },
                                {
                                    "cim": "Angol és német nyelvtani gyakorlatok (2002)",
                                    "diszkont_ar": "3924,8",
                                    "nettoar": "4906"
                                },
                                {
                                    "cim": "Angol szótanító CD-ROM",
                                    "diszkont_ar": "3559,2000000000003",
                                    "nettoar": "4449"
                                },
                                {
                                    "cim": "Angol szótanító CD-ROM",
                                    "diszkont_ar": "3555,2000000000003",
                                    "nettoar": "4444"
                                },
                                {
                                    "cim": "Angol szótár (1996)",
                                    "diszkont_ar": "2807,2000000000003",
                                    "nettoar": "3509"
                                },
                                {
                                    "cim": "Angol-magyar, Magyar-angol hangosszótár",
                                    "diszkont_ar": "4120,8",
                                    "nettoar": "5151"
                                },
                                {
                                    "cim": "Angol-magyar nagyszótár (Halász Előd)",
                                    "diszkont_ar": "4510,400000000001",
                                    "nettoar": "5638"
                                },
                                {
                                    "cim": "Az áramvonalas fakanál",
                                    "diszkont_ar": "4564,8",
                                    "nettoar": "5706"
                                },
                                {
                                    "cim": "Arany János: A bajusz (2002)",
                                    "diszkont_ar": "2712,8",
                                    "nettoar": "3391"
                                },
                                {
                                    "cim": "Az Árpád-ház története",
                                    "diszkont_ar": "4017,6000000000004",
                                    "nettoar": "5022"
                                },
                                {
                                    "cim": "Art Attack (1998)",
                                    "diszkont_ar": "3131,2000000000003",
                                    "nettoar": "3914"
                                },
                                {
                                    "cim": "Art puzzle (1998)",
                                    "diszkont_ar": "4628,8",
                                    "nettoar": "5786"
                                },
                                {
                                    "cim": "Az ásványok világa",
                                    "diszkont_ar": "4499,2",
                                    "nettoar": "5624"
                                },
                                {
                                    "cim": "Ausztrália",
                                    "diszkont_ar": "4260,8",
                                    "nettoar": "5326"
                                },
                                {
                                    "cim": "Auto 2000 - Kerékvilág",
                                    "diszkont_ar": "3570,4",
                                    "nettoar": "4463"
                                },
                                {
                                    "cim": "Ázsia (2000)",
                                    "diszkont_ar": "2498,4",
                                    "nettoar": "3123"
                                },
                                {
                                    "cim": "Biblia (1995)",
                                    "diszkont_ar": "3552",
                                    "nettoar": "4440"
                                },
                                {
                                    "cim": "Biológia '97",
                                    "diszkont_ar": "4434,400000000001",
                                    "nettoar": "5543"
                                },
                                {
                                    "cim": "Biológia (2000)",
                                    "diszkont_ar": "3055,2000000000003",
                                    "nettoar": "3819"
                                },
                                {
                                    "cim": "Biológia (2001)",
                                    "diszkont_ar": "3033,6000000000004",
                                    "nettoar": "3792"
                                },
                                {
                                    "cim": "Biológia : 12-14 éveseknek (2003)",
                                    "diszkont_ar": "2785,6000000000004",
                                    "nettoar": "3482"
                                },
                                {
                                    "cim": "Blinky Bill : A fantasztikus léggömbkaland",
                                    "diszkont_ar": "3260,8",
                                    "nettoar": "4076"
                                },
                                {
                                    "cim": "Broken Sword II. (cop. 1997)",
                                    "diszkont_ar": "3601,6000000000004",
                                    "nettoar": "4502"
                                },
                                {
                                    "cim": "Budapest kalauz",
                                    "diszkont_ar": "3243,2000000000003",
                                    "nettoar": "4054"
                                },
                                {
                                    "cim": "Budapest Museum",
                                    "diszkont_ar": "4233,6",
                                    "nettoar": "5292"
                                },
                                {
                                    "cim": "Buggy",
                                    "diszkont_ar": "4664",
                                    "nettoar": "5830"
                                },
                                {
                                    "cim": "Byte Magyarország (2002)",
                                    "diszkont_ar": "2621,6000000000004",
                                    "nettoar": "3277"
                                },
                                {
                                    "cim": "Caesar III.",
                                    "diszkont_ar": "3308,8",
                                    "nettoar": "4136"
                                },
                                {
                                    "cim": "Capitalism II. (2001)",
                                    "diszkont_ar": "4849,6",
                                    "nettoar": "6062"
                                },
                                {
                                    "cim": "Capitalism Plus",
                                    "diszkont_ar": "4024",
                                    "nettoar": "5030"
                                },
                                {
                                    "cim": "Castle Explorer",
                                    "diszkont_ar": "2965,6000000000004",
                                    "nettoar": "3707"
                                },
                                {
                                    "cim": "CD Panoráma 1-4. (1998)",
                                    "diszkont_ar": "4337,6",
                                    "nettoar": "5422"
                                },
                                {
                                    "cim": "Computer iskola (1998)",
                                    "diszkont_ar": "4208",
                                    "nettoar": "5260"
                                },
                                {
                                    "cim": "Csizmás kandúr (1998)",
                                    "diszkont_ar": "4745,6",
                                    "nettoar": "5932"
                                },
                                {
                                    "cim": "Csodálatos univerzum (1997)",
                                    "diszkont_ar": "3269,6000000000004",
                                    "nettoar": "4087"
                                },
                                {
                                    "cim": "Dél-Amerika (1999)",
                                    "diszkont_ar": "3199,2000000000003",
                                    "nettoar": "3999"
                                },
                                {
                                    "cim": "Dementia 1-5. (1997)",
                                    "diszkont_ar": "4735,2",
                                    "nettoar": "5919"
                                },
                                {
                                    "cim": "Deutsch: Anfanger (kezdő) + Telepítő ",
                                    "diszkont_ar": "4506,400000000001",
                                    "nettoar": "5633"
                                },
                                {
                                    "cim": "Deutsch: Fortgeschrittene (haladó) + Installation",
                                    "diszkont_ar": "4627,2",
                                    "nettoar": "5784"
                                },
                                {
                                    "cim": "Deutsch: Mittelstufe (középhaladó)+ Telepítő",
                                    "diszkont_ar": "3501,6000000000004",
                                    "nettoar": "4377"
                                },
                                {
                                    "cim": "Diablo",
                                    "diszkont_ar": "4775,2",
                                    "nettoar": "5969"
                                },
                                {
                                    "cim": "Diablo II. (2000)",
                                    "diszkont_ar": "3920",
                                    "nettoar": "4900"
                                },
                                {
                                    "cim": "Dicső napok és hétköznapok 1848 - Digitális forrásgyűjtemény 1.",
                                    "diszkont_ar": "4488,8",
                                    "nettoar": "5611"
                                },
                                {
                                    "cim": "Dreams to Reality 1-2. (1997)",
                                    "diszkont_ar": "3759,2000000000003",
                                    "nettoar": "4699"
                                },
                                {
                                    "cim": "Duke Nukem 3D",
                                    "diszkont_ar": "4379,2",
                                    "nettoar": "5474"
                                },
                                {
                                    "cim": "Dungeon Keeper 2. (1999)",
                                    "diszkont_ar": "2695,2000000000003",
                                    "nettoar": "3369"
                                },
                                {
                                    "cim": "E-Games : Collector's Edition (2001)",
                                    "diszkont_ar": "4466,400000000001",
                                    "nettoar": "5583"
                                },
                                {
                                    "cim": "Éléstár (1998)",
                                    "diszkont_ar": "2606,4",
                                    "nettoar": "3258"
                                },
                                {
                                    "cim": "Élet a polgárosodó Magyarországon (2001)",
                                    "diszkont_ar": "4457,6",
                                    "nettoar": "5572"
                                },
                                {
                                    "cim": "Életképek 1848 (1998)",
                                    "diszkont_ar": "3368,8",
                                    "nettoar": "4211"
                                },
                                {
                                    "cim": "Az ember tragédiája",
                                    "diszkont_ar": "3436",
                                    "nettoar": "4295"
                                },
                                {
                                    "cim": "Encarta World Atlas '99 1-2. (1998)",
                                    "diszkont_ar": "4267,2",
                                    "nettoar": "5334"
                                },
                                {
                                    "cim": "Enemy Engaged RAH-66",
                                    "diszkont_ar": "4173,6",
                                    "nettoar": "5217"
                                },
                                {
                                    "cim": "English 1-2. + Telepítő",
                                    "diszkont_ar": "4172",
                                    "nettoar": "5215"
                                },
                                {
                                    "cim": "English: Intermediate (haladó)",
                                    "diszkont_ar": "2901,6000000000004",
                                    "nettoar": "3627"
                                },
                                {
                                    "cim": "English by Stealth  lásd: Lopva angolul",
                                    "diszkont_ar": "3582,4",
                                    "nettoar": "4478"
                                },
                                {
                                    "cim": "Erdély (1996)",
                                    "diszkont_ar": "3999,2000000000003",
                                    "nettoar": "4999"
                                },
                                {
                                    "cim": "Espanol: Intermedio + Telepítő",
                                    "diszkont_ar": "3131,2000000000003",
                                    "nettoar": "3914"
                                },
                                {
                                    "cim": "Espanol: Principiante + Telepítő",
                                    "diszkont_ar": "4705,6",
                                    "nettoar": "5882"
                                },
                                {
                                    "cim": "Észak-Amerika",
                                    "diszkont_ar": "3195,2000000000003",
                                    "nettoar": "3994"
                                },
                                {
                                    "cim": "Európa",
                                    "diszkont_ar": "4216",
                                    "nettoar": "5270"
                                },
                                {
                                    "cim": "The F.A. Premier League Stars 2001",
                                    "diszkont_ar": "3096,8",
                                    "nettoar": "3871"
                                },
                                {
                                    "cim": "Felvételi példatár : Angol",
                                    "diszkont_ar": "3100,8",
                                    "nettoar": "3876"
                                },
                                {
                                    "cim": "Felvételi példatár : Biológia, földrajz",
                                    "diszkont_ar": "2572",
                                    "nettoar": "3215"
                                },
                                {
                                    "cim": "Felvételi példatár : Kémia, fizika",
                                    "diszkont_ar": "4680,8",
                                    "nettoar": "5851"
                                },
                                {
                                    "cim": "Felvételi példatár : Magyar nyelv és irodalom",
                                    "diszkont_ar": "4764",
                                    "nettoar": "5955"
                                },
                                {
                                    "cim": "Felvételi példatár : Matematika",
                                    "diszkont_ar": "4007,2000000000003",
                                    "nettoar": "5009"
                                },
                                {
                                    "cim": "Felvételi példatár : Német",
                                    "diszkont_ar": "2481,6000000000004",
                                    "nettoar": "3102"
                                },
                                {
                                    "cim": "FIFA, 2000 (1999)",
                                    "diszkont_ar": "4047,2000000000003",
                                    "nettoar": "5059"
                                },
                                {
                                    "cim": "Fighting Force (1998)",
                                    "diszkont_ar": "3840",
                                    "nettoar": "4800"
                                },
                                {
                                    "cim": "Final Liberation (1997)",
                                    "diszkont_ar": "3705,6000000000004",
                                    "nettoar": "4632"
                                },
                                {
                                    "cim": "Fitness mesterfokon / Béres Alexandra (2001)",
                                    "diszkont_ar": "3685,6000000000004",
                                    "nettoar": "4607"
                                },
                                {
                                    "cim": "Fizika : 12-14 éveseknek (2002)",
                                    "diszkont_ar": "2987,2000000000003",
                                    "nettoar": "3734"
                                },
                                {
                                    "cim": "Fizika felkészítő az érettségi és felvételi vizsgára",
                                    "diszkont_ar": "3848",
                                    "nettoar": "4810"
                                },
                                {
                                    "cim": "Fizika világa (2001)",
                                    "diszkont_ar": "4610,400000000001",
                                    "nettoar": "5763"
                                },
                                {
                                    "cim": "A Föld élővilága",
                                    "diszkont_ar": "4720",
                                    "nettoar": "5900"
                                },
                                {
                                    "cim": "Földrajz: 10-14 éveseknek (2002)",
                                    "diszkont_ar": "3144",
                                    "nettoar": "3930"
                                },
                                {
                                    "cim": "Földrajz: érettségi előkészítő (2002)",
                                    "diszkont_ar": "2538,4",
                                    "nettoar": "3173"
                                },
                                {
                                    "cim": "Francais 1-2. + Telepítő",
                                    "diszkont_ar": "3230,4",
                                    "nettoar": "4038"
                                },
                                {
                                    "cim": "Francais: Débutan (kezdő) + Telepítő",
                                    "diszkont_ar": "3016",
                                    "nettoar": "3770"
                                },
                                {
                                    "cim": "Francais: Moyen + Telepítő",
                                    "diszkont_ar": "4495,2",
                                    "nettoar": "5619"
                                },
                                {
                                    "cim": "Francia-magyar szótár",
                                    "diszkont_ar": "2852,8",
                                    "nettoar": "3566"
                                },
                                {
                                    "cim": "Funschool in Dreamland (1995)",
                                    "diszkont_ar": "3812,8",
                                    "nettoar": "4766"
                                },
                                {
                                    "cim": "Geolexikon 4.2 : földtani adatbázis (2002)",
                                    "diszkont_ar": "3681,6000000000004",
                                    "nettoar": "4602"
                                },
                                {
                                    "cim": "Gépírás 2000",
                                    "diszkont_ar": "3148,8",
                                    "nettoar": "3936"
                                },
                                {
                                    "cim": "Gondolattár: aforizmák, szállóigék",
                                    "diszkont_ar": "4276,8",
                                    "nettoar": "5346"
                                },
                                {
                                    "cim": "GTA 2",
                                    "diszkont_ar": "4004",
                                    "nettoar": "5005"
                                },
                                {
                                    "cim": "Hadiflották I. (2002)",
                                    "diszkont_ar": "4099,2",
                                    "nettoar": "5124"
                                },
                                {
                                    "cim": "Hadtudományi lexikon (1998)",
                                    "diszkont_ar": "2812",
                                    "nettoar": "3515"
                                },
                                {
                                    "cim": "Hajdúböszörmény",
                                    "diszkont_ar": "3024,8",
                                    "nettoar": "3781"
                                },
                                {
                                    "cim": "Halak, kétéltűek, hüllők",
                                    "diszkont_ar": "3322,4",
                                    "nettoar": "4153"
                                },
                                {
                                    "cim": "Half-Life (1996)",
                                    "diszkont_ar": "4324",
                                    "nettoar": "5405"
                                },
                                {
                                    "cim": "Half-Life Generation: Game of the Year Edition (2002)",
                                    "diszkont_ar": "2964",
                                    "nettoar": "3705"
                                },
                                {
                                    "cim": "Half-Life Generation: Counter Strike (2002)",
                                    "diszkont_ar": "4595,2",
                                    "nettoar": "5744"
                                },
                                {
                                    "cim": "Half-Life Generation: Blue Shift (2002)",
                                    "diszkont_ar": "4582,400000000001",
                                    "nettoar": "5728"
                                },
                                {
                                    "cim": "Harry Potter és a bölcsek köve (2001)",
                                    "diszkont_ar": "3577,6000000000004",
                                    "nettoar": "4472"
                                },
                                {
                                    "cim": "Haza és haladás",
                                    "diszkont_ar": "2784,8",
                                    "nettoar": "3481"
                                },
                                {
                                    "cim": "A hét világcsoda (2001)",
                                    "diszkont_ar": "2529,6000000000004",
                                    "nettoar": "3162"
                                },
                                {
                                    "cim": "Home Desing 3D (1998)",
                                    "diszkont_ar": "3429,6000000000004",
                                    "nettoar": "4287"
                                },
                                {
                                    "cim": "Hupikék törpikék: teletransportörp (1999)",
                                    "diszkont_ar": "2488",
                                    "nettoar": "3110"
                                },
                                {
                                    "cim": "Informatika - Internet - Iskola",
                                    "diszkont_ar": "2986,4",
                                    "nettoar": "3733"
                                },
                                {
                                    "cim": "Interaktív angol nyelvész kurzus haladó szint 1-5.",
                                    "diszkont_ar": "3673,6000000000004",
                                    "nettoar": "4592"
                                },
                                {
                                    "cim": "Interaktív angol nyelvész kurzus kezdő szint",
                                    "diszkont_ar": "3346,4",
                                    "nettoar": "4183"
                                },
                                {
                                    "cim": "Interaktív angol nyelvész kurzus középhaladó szint",
                                    "diszkont_ar": "2492",
                                    "nettoar": "3115"
                                },
                                {
                                    "cim": "Interaktív magyar nyelvtan",
                                    "diszkont_ar": "3823,2000000000003",
                                    "nettoar": "4779"
                                },
                                {
                                    "cim": "International Rally Championship",
                                    "diszkont_ar": "3112",
                                    "nettoar": "3890"
                                },
                                {
                                    "cim": "Internet (1996)",
                                    "diszkont_ar": "3947,2000000000003",
                                    "nettoar": "4934"
                                },
                                {
                                    "cim": "Introduction to Archeology",
                                    "diszkont_ar": "3018,4",
                                    "nettoar": "3773"
                                },
                                {
                                    "cim": "Investigating 20th Century Art (1994)",
                                    "diszkont_ar": "3515,2000000000003",
                                    "nettoar": "4394"
                                },
                                {
                                    "cim": "Az ipari forradalom kora (2000)",
                                    "diszkont_ar": "4065,6000000000004",
                                    "nettoar": "5082"
                                },
                                {
                                    "cim": "Irodalmi arcképcsarnok",
                                    "diszkont_ar": "3092,8",
                                    "nettoar": "3866"
                                },
                                {
                                    "cim": "Irodalom  felkészítő az érettségi és felvételi vizsgára",
                                    "diszkont_ar": "4523,2",
                                    "nettoar": "5654"
                                },
                                {
                                    "cim": "Irodalom (1998)",
                                    "diszkont_ar": "4500",
                                    "nettoar": "5625"
                                },
                                {
                                    "cim": "Italiano (1998) + Installation",
                                    "diszkont_ar": "4348,8",
                                    "nettoar": "5436"
                                },
                                {
                                    "cim": "Italiano 1-2. (1998) + Installation",
                                    "diszkont_ar": "4865,6",
                                    "nettoar": "6082"
                                },
                                {
                                    "cim": "Italiano 1-2. (1998) + Installation",
                                    "diszkont_ar": "2735,2000000000003",
                                    "nettoar": "3419"
                                },
                                {
                                    "cim": "Jancsó",
                                    "diszkont_ar": "3363,2000000000003",
                                    "nettoar": "4204"
                                },
                                {
                                    "cim": "Japán : képes kulturális atlasz (2001)",
                                    "diszkont_ar": "3567,2000000000003",
                                    "nettoar": "4459"
                                },
                                {
                                    "cim": "Játékfilmek 1963-tól napjainkig",
                                    "diszkont_ar": "2510,4",
                                    "nettoar": "3138"
                                },
                                {
                                    "cim": "Játszóház (1998)",
                                    "diszkont_ar": "4239,2",
                                    "nettoar": "5299"
                                },
                                {
                                    "cim": "Jókai összes művei (2001)",
                                    "diszkont_ar": "3814,4",
                                    "nettoar": "4768"
                                },
                                {
                                    "cim": "József Attila (1998)",
                                    "diszkont_ar": "3096",
                                    "nettoar": "3870"
                                },
                                {
                                    "cim": "A jövő titkai - Interaktív horoszkóp (1998)",
                                    "diszkont_ar": "4857,6",
                                    "nettoar": "6072"
                                },
                                {
                                    "cim": "Kártyaváros",
                                    "diszkont_ar": "2485,6000000000004",
                                    "nettoar": "3107"
                                },
                                {
                                    "cim": "Kémia Kalauz 2.",
                                    "diszkont_ar": "4075,2000000000003",
                                    "nettoar": "5094"
                                },
                                {
                                    "cim": "A kémkedés és a hírszerzés története (2002)",
                                    "diszkont_ar": "4676",
                                    "nettoar": "5845"
                                },
                                {
                                    "cim": "Képes krónika (1996)",
                                    "diszkont_ar": "3144,8",
                                    "nettoar": "3931"
                                },
                                {
                                    "cim": "Képtárak (1995)",
                                    "diszkont_ar": "4326,400000000001",
                                    "nettoar": "5408"
                                },
                                {
                                    "cim": "Kereszt és félhold",
                                    "diszkont_ar": "3441,6000000000004",
                                    "nettoar": "4302"
                                },
                                {
                                    "cim": "Kétfejű sas: A Habsburg-uralom Magyarországon (1699-1790)",
                                    "diszkont_ar": "4367,2",
                                    "nettoar": "5459"
                                },
                                {
                                    "cim": "Kettős kötődés: Az Osztrák-Magyar Monarchia (1867-1918)",
                                    "diszkont_ar": "3863,2000000000003",
                                    "nettoar": "4829"
                                },
                                {
                                    "cim": "Kínai falatok",
                                    "diszkont_ar": "3640",
                                    "nettoar": "4550"
                                },
                                {
                                    "cim": "Királyi könyvek 1-9. kötet",
                                    "diszkont_ar": "2604,8",
                                    "nettoar": "3256"
                                },
                                {
                                    "cim": "Királyi könyvek 18-26. kötet",
                                    "diszkont_ar": "4405,6",
                                    "nettoar": "5507"
                                },
                                {
                                    "cim": "Királyi könyvek 27-38. kötet : 1703-1740 (2002)",
                                    "diszkont_ar": "4380,8",
                                    "nettoar": "5476"
                                },
                                {
                                    "cim": "Kispál és a borz (1998)",
                                    "diszkont_ar": "4584",
                                    "nettoar": "5730"
                                },
                                {
                                    "cim": "Kossuth Lajos összes munkái (2002)",
                                    "diszkont_ar": "3671,2000000000003",
                                    "nettoar": "4589"
                                },
                                {
                                    "cim": "Környezetvédelmi kalauz (1999)",
                                    "diszkont_ar": "4406,400000000001",
                                    "nettoar": "5508"
                                },
                                {
                                    "cim": "Kötelező olvasmányok könyvtára 1. (2002)",
                                    "diszkont_ar": "2875,2000000000003",
                                    "nettoar": "3594"
                                },
                                {
                                    "cim": "A kőszívű ember fiai - Egri csillagok",
                                    "diszkont_ar": "4430,400000000001",
                                    "nettoar": "5538"
                                },
                                {
                                    "cim": "A kutyák: A család kedvencei",
                                    "diszkont_ar": "3970,4",
                                    "nettoar": "4963"
                                },
                                {
                                    "cim": "Kutyatár",
                                    "diszkont_ar": "4188",
                                    "nettoar": "5235"
                                },
                                {
                                    "cim": "KvízIQ : A hét világcsoda (2001)",
                                    "diszkont_ar": "2760,8",
                                    "nettoar": "3451"
                                },
                                {
                                    "cim": "Lakáskultúra 2000 (2000)",
                                    "diszkont_ar": "4677,6",
                                    "nettoar": "5847"
                                },
                                {
                                    "cim": "Lakáskultúra 1999 (1999)",
                                    "diszkont_ar": "4331,2",
                                    "nettoar": "5414"
                                },
                                {
                                    "cim": "Lakáskultúra 1998 (1998)",
                                    "diszkont_ar": "4392,8",
                                    "nettoar": "5491"
                                },
                                {
                                    "cim": "Lakáskultúra 1997 (1997)",
                                    "diszkont_ar": "2735,2000000000003",
                                    "nettoar": "3419"
                                },
                                {
                                    "cim": "Lakáskultúra 1996 (1996)",
                                    "diszkont_ar": "3367,2000000000003",
                                    "nettoar": "4209"
                                },
                                {
                                    "cim": "Lands of Lore II. 1-4. (1997)",
                                    "diszkont_ar": "3449,6000000000004",
                                    "nettoar": "4312"
                                },
                                {
                                    "cim": "Landscape Design 3D (1998)",
                                    "diszkont_ar": "3960,8",
                                    "nettoar": "4951"
                                },
                                {
                                    "cim": "Legféltettebb természeti értékeink",
                                    "diszkont_ar": "4066,4",
                                    "nettoar": "5083"
                                },
                                {
                                    "cim": "Legszebb vadnövényeink",
                                    "diszkont_ar": "3550,4",
                                    "nettoar": "4438"
                                },
                                {
                                    "cim": "Leonardo da Vinci",
                                    "diszkont_ar": "4094,4",
                                    "nettoar": "5118"
                                },
                                {
                                    "cim": "Lilenthal Andor sakkjátszmái",
                                    "diszkont_ar": "2915,2000000000003",
                                    "nettoar": "3644"
                                },
                                {
                                    "cim": "Lopva angolul /English by Stealth 1.",
                                    "diszkont_ar": "4344,8",
                                    "nettoar": "5431"
                                },
                                {
                                    "cim": "Lopva angolul /English by Stealth 2.",
                                    "diszkont_ar": "3677,6000000000004",
                                    "nettoar": "4597"
                                },
                                {
                                    "cim": "Lopva angolul /English by Stealth 3.",
                                    "diszkont_ar": "3880,8",
                                    "nettoar": "4851"
                                },
                                {
                                    "cim": "Lovagkirályok (1301-1437) (1997)",
                                    "diszkont_ar": "3494,4",
                                    "nettoar": "4368"
                                },
                                {
                                    "cim": "LoveQ, SexQ : szerelmi intelligencia (2001)",
                                    "diszkont_ar": "2900,8",
                                    "nettoar": "3626"
                                },
                                {
                                    "cim": "M1 Tank (1998)",
                                    "diszkont_ar": "4784,8",
                                    "nettoar": "5981"
                                },
                                {
                                    "cim": "Mackó úr (2002)",
                                    "diszkont_ar": "3705,6000000000004",
                                    "nettoar": "4632"
                                },
                                {
                                    "cim": "Madárdalos kirándulások - Madártani oktató CD-ROM (1999)",
                                    "diszkont_ar": "2726,4",
                                    "nettoar": "3408"
                                },
                                {
                                    "cim": "Magyar bélyegek katalógusa",
                                    "diszkont_ar": "3228",
                                    "nettoar": "4035"
                                },
                                {
                                    "cim": "Magyar fontok '97",
                                    "diszkont_ar": "3076",
                                    "nettoar": "3845"
                                },
                                {
                                    "cim": "A Magyar Koronázási Jelvények",
                                    "diszkont_ar": "3297,6000000000004",
                                    "nettoar": "4122"
                                },
                                {
                                    "cim": "Magyar nyelv és irodalom",
                                    "diszkont_ar": "3763,2000000000003",
                                    "nettoar": "4704"
                                },
                                {
                                    "cim": "Magyar színházművészet a világban",
                                    "diszkont_ar": "4126,400000000001",
                                    "nettoar": "5158"
                                },
                                {
                                    "cim": "Magyarország, 1944-1956 (2001)",
                                    "diszkont_ar": "3936,8",
                                    "nettoar": "4921"
                                },
                                {
                                    "cim": "Magyarország, 1944-1956 (2001)",
                                    "diszkont_ar": "2938,4",
                                    "nettoar": "3673"
                                },
                                {
                                    "cim": "Magyarország Nemzeti Parkjai I.",
                                    "diszkont_ar": "2678,4",
                                    "nettoar": "3348"
                                },
                                {
                                    "cim": "Magyarország Nemzeti Parkjai II.",
                                    "diszkont_ar": "2701,6000000000004",
                                    "nettoar": "3377"
                                },
                                {
                                    "cim": "Magyarországi várak (1998)",
                                    "diszkont_ar": "4367,2",
                                    "nettoar": "5459"
                                },
                                {
                                    "cim": "Mahjongg Master (1998)",
                                    "diszkont_ar": "4338,400000000001",
                                    "nettoar": "5423"
                                },
                                {
                                    "cim": "Manó Angol 1.",
                                    "diszkont_ar": "4681,6",
                                    "nettoar": "5852"
                                },
                                {
                                    "cim": "Manó Angol 1. (2002)",
                                    "diszkont_ar": "4840,8",
                                    "nettoar": "6051"
                                },
                                {
                                    "cim": "Manó Angol 2.",
                                    "diszkont_ar": "4282,400000000001",
                                    "nettoar": "5353"
                                },
                                {
                                    "cim": "Manó Angol 2. (2000)",
                                    "diszkont_ar": "4854,400000000001",
                                    "nettoar": "6068"
                                },
                                {
                                    "cim": "Manó Élővilág",
                                    "diszkont_ar": "2779,2000000000003",
                                    "nettoar": "3474"
                                },
                                {
                                    "cim": "Manó Élővilág (2002)",
                                    "diszkont_ar": "3904,8",
                                    "nettoar": "4881"
                                },
                                {
                                    "cim": "Manó IQ (2001)",
                                    "diszkont_ar": "4306,400000000001",
                                    "nettoar": "5383"
                                },
                                {
                                    "cim": "Manó Kaland (2002)",
                                    "diszkont_ar": "4773,6",
                                    "nettoar": "5967"
                                },
                                {
                                    "cim": "Manó Magyarország (2002)",
                                    "diszkont_ar": "3320",
                                    "nettoar": "4150"
                                },
                                {
                                    "cim": "Manó Matek 1.",
                                    "diszkont_ar": "4796",
                                    "nettoar": "5995"
                                },
                                {
                                    "cim": "Manó Matek 1. (2002)",
                                    "diszkont_ar": "4316,8",
                                    "nettoar": "5396"
                                },
                                {
                                    "cim": "Manó Matek 2. (1999)",
                                    "diszkont_ar": "4454,400000000001",
                                    "nettoar": "5568"
                                },
                                {
                                    "cim": "Manó Matek 2. (1999)",
                                    "diszkont_ar": "2828,8",
                                    "nettoar": "3536"
                                },
                                {
                                    "cim": "Manó Matek 3.",
                                    "diszkont_ar": "3842,4",
                                    "nettoar": "4803"
                                },
                                {
                                    "cim": "Manó Muzsika",
                                    "diszkont_ar": "3996,8",
                                    "nettoar": "4996"
                                },
                                {
                                    "cim": "Manó Muzsika",
                                    "diszkont_ar": "2712,8",
                                    "nettoar": "3391"
                                },
                                {
                                    "cim": "Manó Német 2.",
                                    "diszkont_ar": "3713,6000000000004",
                                    "nettoar": "4642"
                                },
                                {
                                    "cim": "Manó Olvasás 1.",
                                    "diszkont_ar": "4676",
                                    "nettoar": "5845"
                                },
                                {
                                    "cim": "Manó Puzzle (2002)",
                                    "diszkont_ar": "4862,400000000001",
                                    "nettoar": "6078"
                                },
                                {
                                    "cim": "Matematika (1998)",
                                    "diszkont_ar": "2484",
                                    "nettoar": "3105"
                                },
                                {
                                    "cim": "Matematika felkészítő az érettségi és felvételi vizsgára",
                                    "diszkont_ar": "3692,8",
                                    "nettoar": "4616"
                                },
                                {
                                    "cim": "Matematika kalauz (1997)",
                                    "diszkont_ar": "2652",
                                    "nettoar": "3315"
                                },
                                {
                                    "cim": "Mig-29 (1998)",
                                    "diszkont_ar": "4032",
                                    "nettoar": "5040"
                                },
                                {
                                    "cim": "Mikszáth Kálmán összes művei",
                                    "diszkont_ar": "3828,8",
                                    "nettoar": "4786"
                                },
                                {
                                    "cim": "Mini Manó Tavasz",
                                    "diszkont_ar": "3781,6000000000004",
                                    "nettoar": "4727"
                                },
                                {
                                    "cim": "MoBi Mouse: A fordító egér",
                                    "diszkont_ar": "4028,8",
                                    "nettoar": "5036"
                                },
                                {
                                    "cim": "Monopoly Junior",
                                    "diszkont_ar": "3179,2000000000003",
                                    "nettoar": "3974"
                                },
                                {
                                    "cim": "Mons Sacer Pannoniae (2001)",
                                    "diszkont_ar": "3528",
                                    "nettoar": "4410"
                                },
                                {
                                    "cim": "Moving Puzzle Action Flight (2000)",
                                    "diszkont_ar": "4381,6",
                                    "nettoar": "5477"
                                },
                                {
                                    "cim": "Multimédiás Menedzsment Könyvtár 1. - Változásmenedzsment",
                                    "diszkont_ar": "4845,6",
                                    "nettoar": "6057"
                                },
                                {
                                    "cim": "Multimédiás Menedzsment Könyvtár 2. - Önszervezés",
                                    "diszkont_ar": "2623,2000000000003",
                                    "nettoar": "3279"
                                },
                                {
                                    "cim": "Musique! (1997)",
                                    "diszkont_ar": "4268,8",
                                    "nettoar": "5336"
                                },
                                {
                                    "cim": "Művészet és mesterség",
                                    "diszkont_ar": "4878,400000000001",
                                    "nettoar": "6098"
                                },
                                {
                                    "cim": "Művészet és művészek (2002)",
                                    "diszkont_ar": "2792",
                                    "nettoar": "3490"
                                },
                                {
                                    "cim": "Nagy képes világtörténet (Matczáli Henrik) (1998)",
                                    "diszkont_ar": "3509,6000000000004",
                                    "nettoar": "4387"
                                },
                                {
                                    "cim": "Nagy vicc tár",
                                    "diszkont_ar": "4458,400000000001",
                                    "nettoar": "5573"
                                },
                                {
                                    "cim": "A Nagybányai Festőiskola (1998)",
                                    "diszkont_ar": "3901,6000000000004",
                                    "nettoar": "4877"
                                },
                                {
                                    "cim": "NASA 1.",
                                    "diszkont_ar": "4774,400000000001",
                                    "nettoar": "5968"
                                },
                                {
                                    "cim": "NASA 2.",
                                    "diszkont_ar": "3317,6000000000004",
                                    "nettoar": "4147"
                                },
                                {
                                    "cim": "Na, So Was? - Minden helyzetben otthonosan",
                                    "diszkont_ar": "2880",
                                    "nettoar": "3600"
                                },
                                {
                                    "cim": "Német : 8-10 éveseknek (2002)",
                                    "diszkont_ar": "3003,2000000000003",
                                    "nettoar": "3754"
                                },
                                {
                                    "cim": "Német szótanító CD-ROM",
                                    "diszkont_ar": "2650,4",
                                    "nettoar": "3313"
                                },
                                {
                                    "cim": "Németh László összes műve",
                                    "diszkont_ar": "3597,6000000000004",
                                    "nettoar": "4497"
                                },
                                {
                                    "cim": "New York : a tragédiák városa (2001)",
                                    "diszkont_ar": "2978,4",
                                    "nettoar": "3723"
                                },
                                {
                                    "cim": "NHL 2001",
                                    "diszkont_ar": "4193,6",
                                    "nettoar": "5242"
                                },
                                {
                                    "cim": "Nincs királyi út - A matematika kultúrtörténete",
                                    "diszkont_ar": "3482,4",
                                    "nettoar": "4353"
                                },
                                {
                                    "cim": "Nyelvész : Angol és német haladóknak (1997)",
                                    "diszkont_ar": "2817,6000000000004",
                                    "nettoar": "3522"
                                },
                                {
                                    "cim": "Nyelvtan összefoglaló : érettségi előkészítő (2002)",
                                    "diszkont_ar": "2950,4",
                                    "nettoar": "3688"
                                },
                                {
                                    "cim": "Az óceán világa - Maldiv szigetek (2000)",
                                    "diszkont_ar": "4666,400000000001",
                                    "nettoar": "5833"
                                },
                                {
                                    "cim": "Ókori lexikon",
                                    "diszkont_ar": "2497,6000000000004",
                                    "nettoar": "3122"
                                },
                                {
                                    "cim": "Olasz-magyar, magyar-olasz digitális szótár",
                                    "diszkont_ar": "3285,6000000000004",
                                    "nettoar": "4107"
                                },
                                {
                                    "cim": "Olasz szótanító CD-ROM",
                                    "diszkont_ar": "4086,4",
                                    "nettoar": "5108"
                                },
                                {
                                    "cim": "Orosz (1998)",
                                    "diszkont_ar": "4807,2",
                                    "nettoar": "6009"
                                },
                                {
                                    "cim": "Orosz-magyar nagyszótár",
                                    "diszkont_ar": "3732,8",
                                    "nettoar": "4666"
                                },
                                {
                                    "cim": "Az Országos Széchényi Könyvtár corvinái, 2002 (2002)",
                                    "diszkont_ar": "3802,4",
                                    "nettoar": "4753"
                                },
                                {
                                    "cim": "Az Osztrák-Magyar Monarchia írásban és képekben (2001)",
                                    "diszkont_ar": "3487,2000000000003",
                                    "nettoar": "4359"
                                },
                                {
                                    "cim": "Paddle Bash (2001)",
                                    "diszkont_ar": "3149,6000000000004",
                                    "nettoar": "3937"
                                },
                                {
                                    "cim": "Pannon Enciklopédia (1998)",
                                    "diszkont_ar": "3684,8",
                                    "nettoar": "4606"
                                },
                                {
                                    "cim": "Pannonhalmi Főapátság (2001)",
                                    "diszkont_ar": "4653,6",
                                    "nettoar": "5817"
                                },
                                {
                                    "cim": "Panzer General III: Scorched Earth (2000)",
                                    "diszkont_ar": "4846,400000000001",
                                    "nettoar": "6058"
                                },
                                {
                                    "cim": "People's General (1998)",
                                    "diszkont_ar": "4498,400000000001",
                                    "nettoar": "5623"
                                },
                                {
                                    "cim": "Petőfi Sándor: Arany Lacinak (2002)",
                                    "diszkont_ar": "4390,400000000001",
                                    "nettoar": "5488"
                                },
                                {
                                    "cim": "Petőfi Sándor összes költeményei",
                                    "diszkont_ar": "3025,6000000000004",
                                    "nettoar": "3782"
                                },
                                {
                                    "cim": "Plane Crazy",
                                    "diszkont_ar": "4008,8",
                                    "nettoar": "5011"
                                },
                                {
                                    "cim": "Quake III. (2001)",
                                    "diszkont_ar": "2515,2000000000003",
                                    "nettoar": "3144"
                                },
                                {
                                    "cim": "Rákóczi-szabadságharc",
                                    "diszkont_ar": "3822,4",
                                    "nettoar": "4778"
                                },
                                {
                                    "cim": "Rally Championship",
                                    "diszkont_ar": "2484,8",
                                    "nettoar": "3106"
                                },
                                {
                                    "cim": "Rayman: Matek és olvasás",
                                    "diszkont_ar": "3587,2000000000003",
                                    "nettoar": "4484"
                                },
                                {
                                    "cim": "Re-Volt (1999)",
                                    "diszkont_ar": "3191,2000000000003",
                                    "nettoar": "3989"
                                },
                                {
                                    "cim": "The Settlers III. 1-2. (1998)",
                                    "diszkont_ar": "3413,6000000000004",
                                    "nettoar": "4267"
                                },
                                {
                                    "cim": "The Settlers IV. (2001)",
                                    "diszkont_ar": "3314,4",
                                    "nettoar": "4143"
                                },
                                {
                                    "cim": "Shanghai (1997)",
                                    "diszkont_ar": "4720",
                                    "nettoar": "5900"
                                },
                                {
                                    "cim": "The Sims",
                                    "diszkont_ar": "3234,4",
                                    "nettoar": "4043"
                                },
                                {
                                    "cim": "Sonic Racer",
                                    "diszkont_ar": "2760",
                                    "nettoar": "3450"
                                },
                                {
                                    "cim": "Spanyol (1997)",
                                    "diszkont_ar": "3020",
                                    "nettoar": "3775"
                                },
                                {
                                    "cim": "Spanyol-magyar szótár",
                                    "diszkont_ar": "4587,2",
                                    "nettoar": "5734"
                                },
                                {
                                    "cim": "Star Wars: Battle for Naboo",
                                    "diszkont_ar": "2816",
                                    "nettoar": "3520"
                                },
                                {
                                    "cim": "Star Wars: Force Commander (2001)",
                                    "diszkont_ar": "4628",
                                    "nettoar": "5785"
                                },
                                {
                                    "cim": "Star Wars : Rogue Squadron 3D",
                                    "diszkont_ar": "4642,400000000001",
                                    "nettoar": "5803"
                                },
                                {
                                    "cim": "Supreme Snowboarding",
                                    "diszkont_ar": "3320,8",
                                    "nettoar": "4151"
                                },
                                {
                                    "cim": "Szabadítsd ki a kisoroszlánt!",
                                    "diszkont_ar": "4429,6",
                                    "nettoar": "5537"
                                },
                                {
                                    "cim": "Szabadságharc 1848-49 (1988)",
                                    "diszkont_ar": "4848",
                                    "nettoar": "6060"
                                },
                                {
                                    "cim": "A szabadságharc népzenei emlékei",
                                    "diszkont_ar": "4149,6",
                                    "nettoar": "5187"
                                },
                                {
                                    "cim": "Szolfézs: Kezdőknek és haladóknak",
                                    "diszkont_ar": "3593,6000000000004",
                                    "nettoar": "4492"
                                },
                                {
                                    "cim": "Talk To Me Deutsch 2-4.",
                                    "diszkont_ar": "4792",
                                    "nettoar": "5990"
                                },
                                {
                                    "cim": "Talk To Me English 1.",
                                    "diszkont_ar": "3794,4",
                                    "nettoar": "4743"
                                },
                                {
                                    "cim": "Talk To Me Francais 1-2.",
                                    "diszkont_ar": "3978,4",
                                    "nettoar": "4973"
                                },
                                {
                                    "cim": "Tankok, tüzérség (2002)",
                                    "diszkont_ar": "4867,2",
                                    "nettoar": "6084"
                                },
                                {
                                    "cim": "Tanulj tovább! 2000 (2000)",
                                    "diszkont_ar": "3448",
                                    "nettoar": "4310"
                                },
                                {
                                    "cim": "Táplálkozás, életmód mesterfokon (2002)",
                                    "diszkont_ar": "3584",
                                    "nettoar": "4480"
                                },
                                {
                                    "cim": "Target English (1998)",
                                    "diszkont_ar": "4848,8",
                                    "nettoar": "6061"
                                },
                                {
                                    "cim": "Tarzan",
                                    "diszkont_ar": "2989,6000000000004",
                                    "nettoar": "3737"
                                },
                                {
                                    "cim": "Terrorizmus (2002)",
                                    "diszkont_ar": "3901,6000000000004",
                                    "nettoar": "4877"
                                },
                                {
                                    "cim": "Testbeszéd (1998)",
                                    "diszkont_ar": "4305,6",
                                    "nettoar": "5382"
                                },
                                {
                                    "cim": "Tesztre készen: angol (1998)",
                                    "diszkont_ar": "3325,6000000000004",
                                    "nettoar": "4157"
                                },
                                {
                                    "cim": "Tesztre készen: német (1998)",
                                    "diszkont_ar": "3652,8",
                                    "nettoar": "4566"
                                },
                                {
                                    "cim": "Thaiföldi ízek (1999)",
                                    "diszkont_ar": "4200",
                                    "nettoar": "5250"
                                },
                                {
                                    "cim": "Timeshock!",
                                    "diszkont_ar": "4127,2",
                                    "nettoar": "5159"
                                },
                                {
                                    "cim": "Tomi megmenti a tengert (2000)",
                                    "diszkont_ar": "3460",
                                    "nettoar": "4325"
                                },
                                {
                                    "cim": "Touché - The Adventures of the Fifth",
                                    "diszkont_ar": "3638,4",
                                    "nettoar": "4548"
                                },
                                {
                                    "cim": "Toy Story 2.",
                                    "diszkont_ar": "3047,2000000000003",
                                    "nettoar": "3809"
                                },
                                {
                                    "cim": "Történelem (1998)",
                                    "diszkont_ar": "2989,6000000000004",
                                    "nettoar": "3737"
                                },
                                {
                                    "cim": "Történelem : 10-14 éveseknek (2002)",
                                    "diszkont_ar": "2989,6000000000004",
                                    "nettoar": "3737"
                                },
                                {
                                    "cim": "Történelem : középiskola 1. osztály (2002)",
                                    "diszkont_ar": "2988,8",
                                    "nettoar": "3736"
                                },
                                {
                                    "cim": "Történelem : középiskola 4. osztály (2002)",
                                    "diszkont_ar": "4508",
                                    "nettoar": "5635"
                                },
                                {
                                    "cim": "Traffic Giant",
                                    "diszkont_ar": "3508",
                                    "nettoar": "4385"
                                },
                                {
                                    "cim": "Train Simulator (2002)",
                                    "diszkont_ar": "4342,400000000001",
                                    "nettoar": "5428"
                                },
                                {
                                    "cim": "Trickstyle",
                                    "diszkont_ar": "3720,8",
                                    "nettoar": "4651"
                                },
                                {
                                    "cim": "A tudás próbája (2001)",
                                    "diszkont_ar": "4368,8",
                                    "nettoar": "5461"
                                },
                                {
                                    "cim": "Turul : 1883-1900 (2002)",
                                    "diszkont_ar": "4190,400000000001",
                                    "nettoar": "5238"
                                },
                                {
                                    "cim": "UEFA Champions Leage Season",
                                    "diszkont_ar": "4417,6",
                                    "nettoar": "5522"
                                },
                                {
                                    "cim": "Új Könyvek 1994-2000 (2002)",
                                    "diszkont_ar": "4819,2",
                                    "nettoar": "6024"
                                },
                                {
                                    "cim": "Az Univerzum története",
                                    "diszkont_ar": "2923,2000000000003",
                                    "nettoar": "3654"
                                },
                                {
                                    "cim": "Utazás a csillagok között (1998)",
                                    "diszkont_ar": "4564",
                                    "nettoar": "5705"
                                },
                                {
                                    "cim": "Utazás a Naprendszerben",
                                    "diszkont_ar": "2865,6000000000004",
                                    "nettoar": "3582"
                                },
                                {
                                    "cim": "Utazás a Naprendszerben 2.",
                                    "diszkont_ar": "4793,6",
                                    "nettoar": "5992"
                                },
                                {
                                    "cim": "Úton 2. (1998)",
                                    "diszkont_ar": "4380,8",
                                    "nettoar": "5476"
                                },
                                {
                                    "cim": "Üzleti protokoll CD (2002)",
                                    "diszkont_ar": "3912,8",
                                    "nettoar": "4891"
                                },
                                {
                                    "cim": "Várak, kastélyok, legendák 1.",
                                    "diszkont_ar": "3389,6000000000004",
                                    "nettoar": "4237"
                                },
                                {
                                    "cim": "Várak, kastélyok, legendák 2. (2002)",
                                    "diszkont_ar": "2650,4",
                                    "nettoar": "3313"
                                },
                                {
                                    "cim": "A varázslatos emberi test (1998)",
                                    "diszkont_ar": "3890,4",
                                    "nettoar": "4863"
                                },
                                {
                                    "cim": "Varázslatos szülinap",
                                    "diszkont_ar": "4569,6",
                                    "nettoar": "5712"
                                },
                                {
                                    "cim": "Varázslatos történelmi nyomozás",
                                    "diszkont_ar": "3516",
                                    "nettoar": "4395"
                                },
                                {
                                    "cim": "A városi élet a Római Birodalomban (1999)",
                                    "diszkont_ar": "4599,2",
                                    "nettoar": "5749"
                                },
                                {
                                    "cim": "A Vazul-ág (1038-1301) (1997)",
                                    "diszkont_ar": "3248",
                                    "nettoar": "4060"
                                },
                                {
                                    "cim": "Világatlasz '99 (1998)",
                                    "diszkont_ar": "4319,2",
                                    "nettoar": "5399"
                                },
                                {
                                    "cim": "Világatlasz '99 (1998)",
                                    "diszkont_ar": "4161,6",
                                    "nettoar": "5202"
                                },
                                {
                                    "cim": "Világatlasz (2001)",
                                    "diszkont_ar": "2756,8",
                                    "nettoar": "3446"
                                },
                                {
                                    "cim": "Világirodalom : Az ókortól napjainkig (2001)",
                                    "diszkont_ar": "2876",
                                    "nettoar": "3595"
                                },
                                {
                                    "cim": "Volt egyszer egy Magyarország",
                                    "diszkont_ar": "4241,6",
                                    "nettoar": "5302"
                                },
                                {
                                    "cim": "Warcraft III. (2002)",
                                    "diszkont_ar": "4619,2",
                                    "nettoar": "5774"
                                },
                                {
                                    "cim": "William Shakespeare összes művei",
                                    "diszkont_ar": "3549,6000000000004",
                                    "nettoar": "4437"
                                },
                                {
                                    "cim": "Zielpunkt Deutsch (1997)",
                                    "diszkont_ar": "3315,2000000000003",
                                    "nettoar": "4144"
                                },
                                {
                                    "cim": "Zöld Ödön a földgömbön",
                                    "diszkont_ar": "4852",
                                    "nettoar": "6065"
                                }
                            ]
                        },
                        "text/html": [
                            "<table>",
                            "<tr><th>cim</th><th>diszkont_ar</th><th>nettoar</th></tr>",
                            "<tr><td>NULL</td><td>3087,2000000000003</td><td>3859</td></tr>",
                            "<tr><td>A II. világháború története (1999)</td><td>3395,2000000000003</td><td>4244</td></tr>",
                            "<tr><td>3D Dinosaur - adventure</td><td>4032,8</td><td>5041</td></tr>",
                            "<tr><td>3D virtuális origami (2000)</td><td>4284</td><td>5355</td></tr>",
                            "<tr><td>Az 1848-1849-iki szabadságharc története (2002)</td><td>4560</td><td>5700</td></tr>",
                            "<tr><td>Ablak zsiráf (1999)</td><td>2832</td><td>3540</td></tr>",
                            "<tr><td>Ady Endre összes művei (1999)</td><td>3392,8</td><td>4241</td></tr>",
                            "<tr><td>Afrika</td><td>4254,400000000001</td><td>5318</td></tr>",
                            "<tr><td>Age of Empires (2000)</td><td>3585,6000000000004</td><td>4482</td></tr>",
                            "<tr><td>Airport Inc.</td><td>3448,8</td><td>4311</td></tr>",
                            "<tr><td>American Rodeo : BullRider 2000 (2001)</td><td>4472,8</td><td>5591</td></tr>",
                            "<tr><td>Angol : 8-10 éveseknek (2002)</td><td>3882,4</td><td>4853</td></tr>",
                            "<tr><td>Angol és német nyelvtani gyakorlatok (2002)</td><td>3924,8</td><td>4906</td></tr>",
                            "<tr><td>Angol szótanító CD-ROM</td><td>3559,2000000000003</td><td>4449</td></tr>",
                            "<tr><td>Angol szótanító CD-ROM</td><td>3555,2000000000003</td><td>4444</td></tr>",
                            "<tr><td>Angol szótár (1996)</td><td>2807,2000000000003</td><td>3509</td></tr>",
                            "<tr><td>Angol-magyar, Magyar-angol hangosszótár</td><td>4120,8</td><td>5151</td></tr>",
                            "<tr><td>Angol-magyar nagyszótár (Halász Előd)</td><td>4510,400000000001</td><td>5638</td></tr>",
                            "<tr><td>Az áramvonalas fakanál</td><td>4564,8</td><td>5706</td></tr>",
                            "<tr><td>Arany János: A bajusz (2002)</td><td>2712,8</td><td>3391</td></tr>",
                            "<tr><td>Az Árpád-ház története</td><td>4017,6000000000004</td><td>5022</td></tr>",
                            "<tr><td>Art Attack (1998)</td><td>3131,2000000000003</td><td>3914</td></tr>",
                            "<tr><td>Art puzzle (1998)</td><td>4628,8</td><td>5786</td></tr>",
                            "<tr><td>Az ásványok világa</td><td>4499,2</td><td>5624</td></tr>",
                            "<tr><td>Ausztrália</td><td>4260,8</td><td>5326</td></tr>",
                            "<tr><td>Auto 2000 - Kerékvilág</td><td>3570,4</td><td>4463</td></tr>",
                            "<tr><td>Ázsia (2000)</td><td>2498,4</td><td>3123</td></tr>",
                            "<tr><td>Biblia (1995)</td><td>3552</td><td>4440</td></tr>",
                            "<tr><td>Biológia '97</td><td>4434,400000000001</td><td>5543</td></tr>",
                            "<tr><td>Biológia (2000)</td><td>3055,2000000000003</td><td>3819</td></tr>",
                            "<tr><td>Biológia (2001)</td><td>3033,6000000000004</td><td>3792</td></tr>",
                            "<tr><td>Biológia : 12-14 éveseknek (2003)</td><td>2785,6000000000004</td><td>3482</td></tr>",
                            "<tr><td>Blinky Bill : A fantasztikus léggömbkaland</td><td>3260,8</td><td>4076</td></tr>",
                            "<tr><td>Broken Sword II. (cop. 1997)</td><td>3601,6000000000004</td><td>4502</td></tr>",
                            "<tr><td>Budapest kalauz</td><td>3243,2000000000003</td><td>4054</td></tr>",
                            "<tr><td>Budapest Museum</td><td>4233,6</td><td>5292</td></tr>",
                            "<tr><td>Buggy</td><td>4664</td><td>5830</td></tr>",
                            "<tr><td>Byte Magyarország (2002)</td><td>2621,6000000000004</td><td>3277</td></tr>",
                            "<tr><td>Caesar III.</td><td>3308,8</td><td>4136</td></tr>",
                            "<tr><td>Capitalism II. (2001)</td><td>4849,6</td><td>6062</td></tr>",
                            "<tr><td>Capitalism Plus</td><td>4024</td><td>5030</td></tr>",
                            "<tr><td>Castle Explorer</td><td>2965,6000000000004</td><td>3707</td></tr>",
                            "<tr><td>CD Panoráma 1-4. (1998)</td><td>4337,6</td><td>5422</td></tr>",
                            "<tr><td>Computer iskola (1998)</td><td>4208</td><td>5260</td></tr>",
                            "<tr><td>Csizmás kandúr (1998)</td><td>4745,6</td><td>5932</td></tr>",
                            "<tr><td>Csodálatos univerzum (1997)</td><td>3269,6000000000004</td><td>4087</td></tr>",
                            "<tr><td>Dél-Amerika (1999)</td><td>3199,2000000000003</td><td>3999</td></tr>",
                            "<tr><td>Dementia 1-5. (1997)</td><td>4735,2</td><td>5919</td></tr>",
                            "<tr><td>Deutsch: Anfanger (kezdő) + Telepítő </td><td>4506,400000000001</td><td>5633</td></tr>",
                            "<tr><td>Deutsch: Fortgeschrittene (haladó) + Installation</td><td>4627,2</td><td>5784</td></tr>",
                            "<tr><td>Deutsch: Mittelstufe (középhaladó)+ Telepítő</td><td>3501,6000000000004</td><td>4377</td></tr>",
                            "<tr><td>Diablo</td><td>4775,2</td><td>5969</td></tr>",
                            "<tr><td>Diablo II. (2000)</td><td>3920</td><td>4900</td></tr>",
                            "<tr><td>Dicső napok és hétköznapok 1848 - Digitális forrásgyűjtemény 1.</td><td>4488,8</td><td>5611</td></tr>",
                            "<tr><td>Dreams to Reality 1-2. (1997)</td><td>3759,2000000000003</td><td>4699</td></tr>",
                            "<tr><td>Duke Nukem 3D</td><td>4379,2</td><td>5474</td></tr>",
                            "<tr><td>Dungeon Keeper 2. (1999)</td><td>2695,2000000000003</td><td>3369</td></tr>",
                            "<tr><td>E-Games : Collector's Edition (2001)</td><td>4466,400000000001</td><td>5583</td></tr>",
                            "<tr><td>Éléstár (1998)</td><td>2606,4</td><td>3258</td></tr>",
                            "<tr><td>Élet a polgárosodó Magyarországon (2001)</td><td>4457,6</td><td>5572</td></tr>",
                            "<tr><td>Életképek 1848 (1998)</td><td>3368,8</td><td>4211</td></tr>",
                            "<tr><td>Az ember tragédiája</td><td>3436</td><td>4295</td></tr>",
                            "<tr><td>Encarta World Atlas '99 1-2. (1998)</td><td>4267,2</td><td>5334</td></tr>",
                            "<tr><td>Enemy Engaged RAH-66</td><td>4173,6</td><td>5217</td></tr>",
                            "<tr><td>English 1-2. + Telepítő</td><td>4172</td><td>5215</td></tr>",
                            "<tr><td>English: Intermediate (haladó)</td><td>2901,6000000000004</td><td>3627</td></tr>",
                            "<tr><td>English by Stealth  lásd: Lopva angolul</td><td>3582,4</td><td>4478</td></tr>",
                            "<tr><td>Erdély (1996)</td><td>3999,2000000000003</td><td>4999</td></tr>",
                            "<tr><td>Espanol: Intermedio + Telepítő</td><td>3131,2000000000003</td><td>3914</td></tr>",
                            "<tr><td>Espanol: Principiante + Telepítő</td><td>4705,6</td><td>5882</td></tr>",
                            "<tr><td>Észak-Amerika</td><td>3195,2000000000003</td><td>3994</td></tr>",
                            "<tr><td>Európa</td><td>4216</td><td>5270</td></tr>",
                            "<tr><td>The F.A. Premier League Stars 2001</td><td>3096,8</td><td>3871</td></tr>",
                            "<tr><td>Felvételi példatár : Angol</td><td>3100,8</td><td>3876</td></tr>",
                            "<tr><td>Felvételi példatár : Biológia, földrajz</td><td>2572</td><td>3215</td></tr>",
                            "<tr><td>Felvételi példatár : Kémia, fizika</td><td>4680,8</td><td>5851</td></tr>",
                            "<tr><td>Felvételi példatár : Magyar nyelv és irodalom</td><td>4764</td><td>5955</td></tr>",
                            "<tr><td>Felvételi példatár : Matematika</td><td>4007,2000000000003</td><td>5009</td></tr>",
                            "<tr><td>Felvételi példatár : Német</td><td>2481,6000000000004</td><td>3102</td></tr>",
                            "<tr><td>FIFA, 2000 (1999)</td><td>4047,2000000000003</td><td>5059</td></tr>",
                            "<tr><td>Fighting Force (1998)</td><td>3840</td><td>4800</td></tr>",
                            "<tr><td>Final Liberation (1997)</td><td>3705,6000000000004</td><td>4632</td></tr>",
                            "<tr><td>Fitness mesterfokon / Béres Alexandra (2001)</td><td>3685,6000000000004</td><td>4607</td></tr>",
                            "<tr><td>Fizika : 12-14 éveseknek (2002)</td><td>2987,2000000000003</td><td>3734</td></tr>",
                            "<tr><td>Fizika felkészítő az érettségi és felvételi vizsgára</td><td>3848</td><td>4810</td></tr>",
                            "<tr><td>Fizika világa (2001)</td><td>4610,400000000001</td><td>5763</td></tr>",
                            "<tr><td>A Föld élővilága</td><td>4720</td><td>5900</td></tr>",
                            "<tr><td>Földrajz: 10-14 éveseknek (2002)</td><td>3144</td><td>3930</td></tr>",
                            "<tr><td>Földrajz: érettségi előkészítő (2002)</td><td>2538,4</td><td>3173</td></tr>",
                            "<tr><td>Francais 1-2. + Telepítő</td><td>3230,4</td><td>4038</td></tr>",
                            "<tr><td>Francais: Débutan (kezdő) + Telepítő</td><td>3016</td><td>3770</td></tr>",
                            "<tr><td>Francais: Moyen + Telepítő</td><td>4495,2</td><td>5619</td></tr>",
                            "<tr><td>Francia-magyar szótár</td><td>2852,8</td><td>3566</td></tr>",
                            "<tr><td>Funschool in Dreamland (1995)</td><td>3812,8</td><td>4766</td></tr>",
                            "<tr><td>Geolexikon 4.2 : földtani adatbázis (2002)</td><td>3681,6000000000004</td><td>4602</td></tr>",
                            "<tr><td>Gépírás 2000</td><td>3148,8</td><td>3936</td></tr>",
                            "<tr><td>Gondolattár: aforizmák, szállóigék</td><td>4276,8</td><td>5346</td></tr>",
                            "<tr><td>GTA 2</td><td>4004</td><td>5005</td></tr>",
                            "<tr><td>Hadiflották I. (2002)</td><td>4099,2</td><td>5124</td></tr>",
                            "<tr><td>Hadtudományi lexikon (1998)</td><td>2812</td><td>3515</td></tr>",
                            "<tr><td>Hajdúböszörmény</td><td>3024,8</td><td>3781</td></tr>",
                            "<tr><td>Halak, kétéltűek, hüllők</td><td>3322,4</td><td>4153</td></tr>",
                            "<tr><td>Half-Life (1996)</td><td>4324</td><td>5405</td></tr>",
                            "<tr><td>Half-Life Generation: Game of the Year Edition (2002)</td><td>2964</td><td>3705</td></tr>",
                            "<tr><td>Half-Life Generation: Counter Strike (2002)</td><td>4595,2</td><td>5744</td></tr>",
                            "<tr><td>Half-Life Generation: Blue Shift (2002)</td><td>4582,400000000001</td><td>5728</td></tr>",
                            "<tr><td>Harry Potter és a bölcsek köve (2001)</td><td>3577,6000000000004</td><td>4472</td></tr>",
                            "<tr><td>Haza és haladás</td><td>2784,8</td><td>3481</td></tr>",
                            "<tr><td>A hét világcsoda (2001)</td><td>2529,6000000000004</td><td>3162</td></tr>",
                            "<tr><td>Home Desing 3D (1998)</td><td>3429,6000000000004</td><td>4287</td></tr>",
                            "<tr><td>Hupikék törpikék: teletransportörp (1999)</td><td>2488</td><td>3110</td></tr>",
                            "<tr><td>Informatika - Internet - Iskola</td><td>2986,4</td><td>3733</td></tr>",
                            "<tr><td>Interaktív angol nyelvész kurzus haladó szint 1-5.</td><td>3673,6000000000004</td><td>4592</td></tr>",
                            "<tr><td>Interaktív angol nyelvész kurzus kezdő szint</td><td>3346,4</td><td>4183</td></tr>",
                            "<tr><td>Interaktív angol nyelvész kurzus középhaladó szint</td><td>2492</td><td>3115</td></tr>",
                            "<tr><td>Interaktív magyar nyelvtan</td><td>3823,2000000000003</td><td>4779</td></tr>",
                            "<tr><td>International Rally Championship</td><td>3112</td><td>3890</td></tr>",
                            "<tr><td>Internet (1996)</td><td>3947,2000000000003</td><td>4934</td></tr>",
                            "<tr><td>Introduction to Archeology</td><td>3018,4</td><td>3773</td></tr>",
                            "<tr><td>Investigating 20th Century Art (1994)</td><td>3515,2000000000003</td><td>4394</td></tr>",
                            "<tr><td>Az ipari forradalom kora (2000)</td><td>4065,6000000000004</td><td>5082</td></tr>",
                            "<tr><td>Irodalmi arcképcsarnok</td><td>3092,8</td><td>3866</td></tr>",
                            "<tr><td>Irodalom  felkészítő az érettségi és felvételi vizsgára</td><td>4523,2</td><td>5654</td></tr>",
                            "<tr><td>Irodalom (1998)</td><td>4500</td><td>5625</td></tr>",
                            "<tr><td>Italiano (1998) + Installation</td><td>4348,8</td><td>5436</td></tr>",
                            "<tr><td>Italiano 1-2. (1998) + Installation</td><td>4865,6</td><td>6082</td></tr>",
                            "<tr><td>Italiano 1-2. (1998) + Installation</td><td>2735,2000000000003</td><td>3419</td></tr>",
                            "<tr><td>Jancsó</td><td>3363,2000000000003</td><td>4204</td></tr>",
                            "<tr><td>Japán : képes kulturális atlasz (2001)</td><td>3567,2000000000003</td><td>4459</td></tr>",
                            "<tr><td>Játékfilmek 1963-tól napjainkig</td><td>2510,4</td><td>3138</td></tr>",
                            "<tr><td>Játszóház (1998)</td><td>4239,2</td><td>5299</td></tr>",
                            "<tr><td>Jókai összes művei (2001)</td><td>3814,4</td><td>4768</td></tr>",
                            "<tr><td>József Attila (1998)</td><td>3096</td><td>3870</td></tr>",
                            "<tr><td>A jövő titkai - Interaktív horoszkóp (1998)</td><td>4857,6</td><td>6072</td></tr>",
                            "<tr><td>Kártyaváros</td><td>2485,6000000000004</td><td>3107</td></tr>",
                            "<tr><td>Kémia Kalauz 2.</td><td>4075,2000000000003</td><td>5094</td></tr>",
                            "<tr><td>A kémkedés és a hírszerzés története (2002)</td><td>4676</td><td>5845</td></tr>",
                            "<tr><td>Képes krónika (1996)</td><td>3144,8</td><td>3931</td></tr>",
                            "<tr><td>Képtárak (1995)</td><td>4326,400000000001</td><td>5408</td></tr>",
                            "<tr><td>Kereszt és félhold</td><td>3441,6000000000004</td><td>4302</td></tr>",
                            "<tr><td>Kétfejű sas: A Habsburg-uralom Magyarországon (1699-1790)</td><td>4367,2</td><td>5459</td></tr>",
                            "<tr><td>Kettős kötődés: Az Osztrák-Magyar Monarchia (1867-1918)</td><td>3863,2000000000003</td><td>4829</td></tr>",
                            "<tr><td>Kínai falatok</td><td>3640</td><td>4550</td></tr>",
                            "<tr><td>Királyi könyvek 1-9. kötet</td><td>2604,8</td><td>3256</td></tr>",
                            "<tr><td>Királyi könyvek 18-26. kötet</td><td>4405,6</td><td>5507</td></tr>",
                            "<tr><td>Királyi könyvek 27-38. kötet : 1703-1740 (2002)</td><td>4380,8</td><td>5476</td></tr>",
                            "<tr><td>Kispál és a borz (1998)</td><td>4584</td><td>5730</td></tr>",
                            "<tr><td>Kossuth Lajos összes munkái (2002)</td><td>3671,2000000000003</td><td>4589</td></tr>",
                            "<tr><td>Környezetvédelmi kalauz (1999)</td><td>4406,400000000001</td><td>5508</td></tr>",
                            "<tr><td>Kötelező olvasmányok könyvtára 1. (2002)</td><td>2875,2000000000003</td><td>3594</td></tr>",
                            "<tr><td>A kőszívű ember fiai - Egri csillagok</td><td>4430,400000000001</td><td>5538</td></tr>",
                            "<tr><td>A kutyák: A család kedvencei</td><td>3970,4</td><td>4963</td></tr>",
                            "<tr><td>Kutyatár</td><td>4188</td><td>5235</td></tr>",
                            "<tr><td>KvízIQ : A hét világcsoda (2001)</td><td>2760,8</td><td>3451</td></tr>",
                            "<tr><td>Lakáskultúra 2000 (2000)</td><td>4677,6</td><td>5847</td></tr>",
                            "<tr><td>Lakáskultúra 1999 (1999)</td><td>4331,2</td><td>5414</td></tr>",
                            "<tr><td>Lakáskultúra 1998 (1998)</td><td>4392,8</td><td>5491</td></tr>",
                            "<tr><td>Lakáskultúra 1997 (1997)</td><td>2735,2000000000003</td><td>3419</td></tr>",
                            "<tr><td>Lakáskultúra 1996 (1996)</td><td>3367,2000000000003</td><td>4209</td></tr>",
                            "<tr><td>Lands of Lore II. 1-4. (1997)</td><td>3449,6000000000004</td><td>4312</td></tr>",
                            "<tr><td>Landscape Design 3D (1998)</td><td>3960,8</td><td>4951</td></tr>",
                            "<tr><td>Legféltettebb természeti értékeink</td><td>4066,4</td><td>5083</td></tr>",
                            "<tr><td>Legszebb vadnövényeink</td><td>3550,4</td><td>4438</td></tr>",
                            "<tr><td>Leonardo da Vinci</td><td>4094,4</td><td>5118</td></tr>",
                            "<tr><td>Lilenthal Andor sakkjátszmái</td><td>2915,2000000000003</td><td>3644</td></tr>",
                            "<tr><td>Lopva angolul /English by Stealth 1.</td><td>4344,8</td><td>5431</td></tr>",
                            "<tr><td>Lopva angolul /English by Stealth 2.</td><td>3677,6000000000004</td><td>4597</td></tr>",
                            "<tr><td>Lopva angolul /English by Stealth 3.</td><td>3880,8</td><td>4851</td></tr>",
                            "<tr><td>Lovagkirályok (1301-1437) (1997)</td><td>3494,4</td><td>4368</td></tr>",
                            "<tr><td>LoveQ, SexQ : szerelmi intelligencia (2001)</td><td>2900,8</td><td>3626</td></tr>",
                            "<tr><td>M1 Tank (1998)</td><td>4784,8</td><td>5981</td></tr>",
                            "<tr><td>Mackó úr (2002)</td><td>3705,6000000000004</td><td>4632</td></tr>",
                            "<tr><td>Madárdalos kirándulások - Madártani oktató CD-ROM (1999)</td><td>2726,4</td><td>3408</td></tr>",
                            "<tr><td>Magyar bélyegek katalógusa</td><td>3228</td><td>4035</td></tr>",
                            "<tr><td>Magyar fontok '97</td><td>3076</td><td>3845</td></tr>",
                            "<tr><td>A Magyar Koronázási Jelvények</td><td>3297,6000000000004</td><td>4122</td></tr>",
                            "<tr><td>Magyar nyelv és irodalom</td><td>3763,2000000000003</td><td>4704</td></tr>",
                            "<tr><td>Magyar színházművészet a világban</td><td>4126,400000000001</td><td>5158</td></tr>",
                            "<tr><td>Magyarország, 1944-1956 (2001)</td><td>3936,8</td><td>4921</td></tr>",
                            "<tr><td>Magyarország, 1944-1956 (2001)</td><td>2938,4</td><td>3673</td></tr>",
                            "<tr><td>Magyarország Nemzeti Parkjai I.</td><td>2678,4</td><td>3348</td></tr>",
                            "<tr><td>Magyarország Nemzeti Parkjai II.</td><td>2701,6000000000004</td><td>3377</td></tr>",
                            "<tr><td>Magyarországi várak (1998)</td><td>4367,2</td><td>5459</td></tr>",
                            "<tr><td>Mahjongg Master (1998)</td><td>4338,400000000001</td><td>5423</td></tr>",
                            "<tr><td>Manó Angol 1.</td><td>4681,6</td><td>5852</td></tr>",
                            "<tr><td>Manó Angol 1. (2002)</td><td>4840,8</td><td>6051</td></tr>",
                            "<tr><td>Manó Angol 2.</td><td>4282,400000000001</td><td>5353</td></tr>",
                            "<tr><td>Manó Angol 2. (2000)</td><td>4854,400000000001</td><td>6068</td></tr>",
                            "<tr><td>Manó Élővilág</td><td>2779,2000000000003</td><td>3474</td></tr>",
                            "<tr><td>Manó Élővilág (2002)</td><td>3904,8</td><td>4881</td></tr>",
                            "<tr><td>Manó IQ (2001)</td><td>4306,400000000001</td><td>5383</td></tr>",
                            "<tr><td>Manó Kaland (2002)</td><td>4773,6</td><td>5967</td></tr>",
                            "<tr><td>Manó Magyarország (2002)</td><td>3320</td><td>4150</td></tr>",
                            "<tr><td>Manó Matek 1.</td><td>4796</td><td>5995</td></tr>",
                            "<tr><td>Manó Matek 1. (2002)</td><td>4316,8</td><td>5396</td></tr>",
                            "<tr><td>Manó Matek 2. (1999)</td><td>4454,400000000001</td><td>5568</td></tr>",
                            "<tr><td>Manó Matek 2. (1999)</td><td>2828,8</td><td>3536</td></tr>",
                            "<tr><td>Manó Matek 3.</td><td>3842,4</td><td>4803</td></tr>",
                            "<tr><td>Manó Muzsika</td><td>3996,8</td><td>4996</td></tr>",
                            "<tr><td>Manó Muzsika</td><td>2712,8</td><td>3391</td></tr>",
                            "<tr><td>Manó Német 2.</td><td>3713,6000000000004</td><td>4642</td></tr>",
                            "<tr><td>Manó Olvasás 1.</td><td>4676</td><td>5845</td></tr>",
                            "<tr><td>Manó Puzzle (2002)</td><td>4862,400000000001</td><td>6078</td></tr>",
                            "<tr><td>Matematika (1998)</td><td>2484</td><td>3105</td></tr>",
                            "<tr><td>Matematika felkészítő az érettségi és felvételi vizsgára</td><td>3692,8</td><td>4616</td></tr>",
                            "<tr><td>Matematika kalauz (1997)</td><td>2652</td><td>3315</td></tr>",
                            "<tr><td>Mig-29 (1998)</td><td>4032</td><td>5040</td></tr>",
                            "<tr><td>Mikszáth Kálmán összes művei</td><td>3828,8</td><td>4786</td></tr>",
                            "<tr><td>Mini Manó Tavasz</td><td>3781,6000000000004</td><td>4727</td></tr>",
                            "<tr><td>MoBi Mouse: A fordító egér</td><td>4028,8</td><td>5036</td></tr>",
                            "<tr><td>Monopoly Junior</td><td>3179,2000000000003</td><td>3974</td></tr>",
                            "<tr><td>Mons Sacer Pannoniae (2001)</td><td>3528</td><td>4410</td></tr>",
                            "<tr><td>Moving Puzzle Action Flight (2000)</td><td>4381,6</td><td>5477</td></tr>",
                            "<tr><td>Multimédiás Menedzsment Könyvtár 1. - Változásmenedzsment</td><td>4845,6</td><td>6057</td></tr>",
                            "<tr><td>Multimédiás Menedzsment Könyvtár 2. - Önszervezés</td><td>2623,2000000000003</td><td>3279</td></tr>",
                            "<tr><td>Musique! (1997)</td><td>4268,8</td><td>5336</td></tr>",
                            "<tr><td>Művészet és mesterség</td><td>4878,400000000001</td><td>6098</td></tr>",
                            "<tr><td>Művészet és művészek (2002)</td><td>2792</td><td>3490</td></tr>",
                            "<tr><td>Nagy képes világtörténet (Matczáli Henrik) (1998)</td><td>3509,6000000000004</td><td>4387</td></tr>",
                            "<tr><td>Nagy vicc tár</td><td>4458,400000000001</td><td>5573</td></tr>",
                            "<tr><td>A Nagybányai Festőiskola (1998)</td><td>3901,6000000000004</td><td>4877</td></tr>",
                            "<tr><td>NASA 1.</td><td>4774,400000000001</td><td>5968</td></tr>",
                            "<tr><td>NASA 2.</td><td>3317,6000000000004</td><td>4147</td></tr>",
                            "<tr><td>Na, So Was? - Minden helyzetben otthonosan</td><td>2880</td><td>3600</td></tr>",
                            "<tr><td>Német : 8-10 éveseknek (2002)</td><td>3003,2000000000003</td><td>3754</td></tr>",
                            "<tr><td>Német szótanító CD-ROM</td><td>2650,4</td><td>3313</td></tr>",
                            "<tr><td>Németh László összes műve</td><td>3597,6000000000004</td><td>4497</td></tr>",
                            "<tr><td>New York : a tragédiák városa (2001)</td><td>2978,4</td><td>3723</td></tr>",
                            "<tr><td>NHL 2001</td><td>4193,6</td><td>5242</td></tr>",
                            "<tr><td>Nincs királyi út - A matematika kultúrtörténete</td><td>3482,4</td><td>4353</td></tr>",
                            "<tr><td>Nyelvész : Angol és német haladóknak (1997)</td><td>2817,6000000000004</td><td>3522</td></tr>",
                            "<tr><td>Nyelvtan összefoglaló : érettségi előkészítő (2002)</td><td>2950,4</td><td>3688</td></tr>",
                            "<tr><td>Az óceán világa - Maldiv szigetek (2000)</td><td>4666,400000000001</td><td>5833</td></tr>",
                            "<tr><td>Ókori lexikon</td><td>2497,6000000000004</td><td>3122</td></tr>",
                            "<tr><td>Olasz-magyar, magyar-olasz digitális szótár</td><td>3285,6000000000004</td><td>4107</td></tr>",
                            "<tr><td>Olasz szótanító CD-ROM</td><td>4086,4</td><td>5108</td></tr>",
                            "<tr><td>Orosz (1998)</td><td>4807,2</td><td>6009</td></tr>",
                            "<tr><td>Orosz-magyar nagyszótár</td><td>3732,8</td><td>4666</td></tr>",
                            "<tr><td>Az Országos Széchényi Könyvtár corvinái, 2002 (2002)</td><td>3802,4</td><td>4753</td></tr>",
                            "<tr><td>Az Osztrák-Magyar Monarchia írásban és képekben (2001)</td><td>3487,2000000000003</td><td>4359</td></tr>",
                            "<tr><td>Paddle Bash (2001)</td><td>3149,6000000000004</td><td>3937</td></tr>",
                            "<tr><td>Pannon Enciklopédia (1998)</td><td>3684,8</td><td>4606</td></tr>",
                            "<tr><td>Pannonhalmi Főapátság (2001)</td><td>4653,6</td><td>5817</td></tr>",
                            "<tr><td>Panzer General III: Scorched Earth (2000)</td><td>4846,400000000001</td><td>6058</td></tr>",
                            "<tr><td>People's General (1998)</td><td>4498,400000000001</td><td>5623</td></tr>",
                            "<tr><td>Petőfi Sándor: Arany Lacinak (2002)</td><td>4390,400000000001</td><td>5488</td></tr>",
                            "<tr><td>Petőfi Sándor összes költeményei</td><td>3025,6000000000004</td><td>3782</td></tr>",
                            "<tr><td>Plane Crazy</td><td>4008,8</td><td>5011</td></tr>",
                            "<tr><td>Quake III. (2001)</td><td>2515,2000000000003</td><td>3144</td></tr>",
                            "<tr><td>Rákóczi-szabadságharc</td><td>3822,4</td><td>4778</td></tr>",
                            "<tr><td>Rally Championship</td><td>2484,8</td><td>3106</td></tr>",
                            "<tr><td>Rayman: Matek és olvasás</td><td>3587,2000000000003</td><td>4484</td></tr>",
                            "<tr><td>Re-Volt (1999)</td><td>3191,2000000000003</td><td>3989</td></tr>",
                            "<tr><td>The Settlers III. 1-2. (1998)</td><td>3413,6000000000004</td><td>4267</td></tr>",
                            "<tr><td>The Settlers IV. (2001)</td><td>3314,4</td><td>4143</td></tr>",
                            "<tr><td>Shanghai (1997)</td><td>4720</td><td>5900</td></tr>",
                            "<tr><td>The Sims</td><td>3234,4</td><td>4043</td></tr>",
                            "<tr><td>Sonic Racer</td><td>2760</td><td>3450</td></tr>",
                            "<tr><td>Spanyol (1997)</td><td>3020</td><td>3775</td></tr>",
                            "<tr><td>Spanyol-magyar szótár</td><td>4587,2</td><td>5734</td></tr>",
                            "<tr><td>Star Wars: Battle for Naboo</td><td>2816</td><td>3520</td></tr>",
                            "<tr><td>Star Wars: Force Commander (2001)</td><td>4628</td><td>5785</td></tr>",
                            "<tr><td>Star Wars : Rogue Squadron 3D</td><td>4642,400000000001</td><td>5803</td></tr>",
                            "<tr><td>Supreme Snowboarding</td><td>3320,8</td><td>4151</td></tr>",
                            "<tr><td>Szabadítsd ki a kisoroszlánt!</td><td>4429,6</td><td>5537</td></tr>",
                            "<tr><td>Szabadságharc 1848-49 (1988)</td><td>4848</td><td>6060</td></tr>",
                            "<tr><td>A szabadságharc népzenei emlékei</td><td>4149,6</td><td>5187</td></tr>",
                            "<tr><td>Szolfézs: Kezdőknek és haladóknak</td><td>3593,6000000000004</td><td>4492</td></tr>",
                            "<tr><td>Talk To Me Deutsch 2-4.</td><td>4792</td><td>5990</td></tr>",
                            "<tr><td>Talk To Me English 1.</td><td>3794,4</td><td>4743</td></tr>",
                            "<tr><td>Talk To Me Francais 1-2.</td><td>3978,4</td><td>4973</td></tr>",
                            "<tr><td>Tankok, tüzérség (2002)</td><td>4867,2</td><td>6084</td></tr>",
                            "<tr><td>Tanulj tovább! 2000 (2000)</td><td>3448</td><td>4310</td></tr>",
                            "<tr><td>Táplálkozás, életmód mesterfokon (2002)</td><td>3584</td><td>4480</td></tr>",
                            "<tr><td>Target English (1998)</td><td>4848,8</td><td>6061</td></tr>",
                            "<tr><td>Tarzan</td><td>2989,6000000000004</td><td>3737</td></tr>",
                            "<tr><td>Terrorizmus (2002)</td><td>3901,6000000000004</td><td>4877</td></tr>",
                            "<tr><td>Testbeszéd (1998)</td><td>4305,6</td><td>5382</td></tr>",
                            "<tr><td>Tesztre készen: angol (1998)</td><td>3325,6000000000004</td><td>4157</td></tr>",
                            "<tr><td>Tesztre készen: német (1998)</td><td>3652,8</td><td>4566</td></tr>",
                            "<tr><td>Thaiföldi ízek (1999)</td><td>4200</td><td>5250</td></tr>",
                            "<tr><td>Timeshock!</td><td>4127,2</td><td>5159</td></tr>",
                            "<tr><td>Tomi megmenti a tengert (2000)</td><td>3460</td><td>4325</td></tr>",
                            "<tr><td>Touché - The Adventures of the Fifth</td><td>3638,4</td><td>4548</td></tr>",
                            "<tr><td>Toy Story 2.</td><td>3047,2000000000003</td><td>3809</td></tr>",
                            "<tr><td>Történelem (1998)</td><td>2989,6000000000004</td><td>3737</td></tr>",
                            "<tr><td>Történelem : 10-14 éveseknek (2002)</td><td>2989,6000000000004</td><td>3737</td></tr>",
                            "<tr><td>Történelem : középiskola 1. osztály (2002)</td><td>2988,8</td><td>3736</td></tr>",
                            "<tr><td>Történelem : középiskola 4. osztály (2002)</td><td>4508</td><td>5635</td></tr>",
                            "<tr><td>Traffic Giant</td><td>3508</td><td>4385</td></tr>",
                            "<tr><td>Train Simulator (2002)</td><td>4342,400000000001</td><td>5428</td></tr>",
                            "<tr><td>Trickstyle</td><td>3720,8</td><td>4651</td></tr>",
                            "<tr><td>A tudás próbája (2001)</td><td>4368,8</td><td>5461</td></tr>",
                            "<tr><td>Turul : 1883-1900 (2002)</td><td>4190,400000000001</td><td>5238</td></tr>",
                            "<tr><td>UEFA Champions Leage Season</td><td>4417,6</td><td>5522</td></tr>",
                            "<tr><td>Új Könyvek 1994-2000 (2002)</td><td>4819,2</td><td>6024</td></tr>",
                            "<tr><td>Az Univerzum története</td><td>2923,2000000000003</td><td>3654</td></tr>",
                            "<tr><td>Utazás a csillagok között (1998)</td><td>4564</td><td>5705</td></tr>",
                            "<tr><td>Utazás a Naprendszerben</td><td>2865,6000000000004</td><td>3582</td></tr>",
                            "<tr><td>Utazás a Naprendszerben 2.</td><td>4793,6</td><td>5992</td></tr>",
                            "<tr><td>Úton 2. (1998)</td><td>4380,8</td><td>5476</td></tr>",
                            "<tr><td>Üzleti protokoll CD (2002)</td><td>3912,8</td><td>4891</td></tr>",
                            "<tr><td>Várak, kastélyok, legendák 1.</td><td>3389,6000000000004</td><td>4237</td></tr>",
                            "<tr><td>Várak, kastélyok, legendák 2. (2002)</td><td>2650,4</td><td>3313</td></tr>",
                            "<tr><td>A varázslatos emberi test (1998)</td><td>3890,4</td><td>4863</td></tr>",
                            "<tr><td>Varázslatos szülinap</td><td>4569,6</td><td>5712</td></tr>",
                            "<tr><td>Varázslatos történelmi nyomozás</td><td>3516</td><td>4395</td></tr>",
                            "<tr><td>A városi élet a Római Birodalomban (1999)</td><td>4599,2</td><td>5749</td></tr>",
                            "<tr><td>A Vazul-ág (1038-1301) (1997)</td><td>3248</td><td>4060</td></tr>",
                            "<tr><td>Világatlasz '99 (1998)</td><td>4319,2</td><td>5399</td></tr>",
                            "<tr><td>Világatlasz '99 (1998)</td><td>4161,6</td><td>5202</td></tr>",
                            "<tr><td>Világatlasz (2001)</td><td>2756,8</td><td>3446</td></tr>",
                            "<tr><td>Világirodalom : Az ókortól napjainkig (2001)</td><td>2876</td><td>3595</td></tr>",
                            "<tr><td>Volt egyszer egy Magyarország</td><td>4241,6</td><td>5302</td></tr>",
                            "<tr><td>Warcraft III. (2002)</td><td>4619,2</td><td>5774</td></tr>",
                            "<tr><td>William Shakespeare összes művei</td><td>3549,6000000000004</td><td>4437</td></tr>",
                            "<tr><td>Zielpunkt Deutsch (1997)</td><td>3315,2000000000003</td><td>4144</td></tr>",
                            "<tr><td>Zöld Ödön a földgömbön</td><td>4852</td><td>6065</td></tr>",
                            "</table>"
                        ]
                    }
                }
            ],
            "execution_count": 4
        },
        {
            "cell_type": "markdown",
            "source": [
                "6. Melyek azok a kölcsönzések, ahol még nem hozták vissza a dvd-t?"
            ],
            "metadata": {
                "azdata_cell_guid": "5fe65c1c-2479-45ac-ad03-ec99d12eae21"
            },
            "attachments": {}
        },
        {
            "cell_type": "code",
            "source": [
                "SELECT *\r\n",
                "FROM kolcsonzesek\r\n",
                "WHERE vissza_datum IS NULL"
            ],
            "metadata": {
                "azdata_cell_guid": "924f2dde-f1c2-4def-a7f9-dbf4bace7735",
                "language": "sql"
            },
            "outputs": [
                {
                    "output_type": "display_data",
                    "data": {
                        "text/html": "(3 rows affected)"
                    },
                    "metadata": {}
                },
                {
                    "output_type": "display_data",
                    "data": {
                        "text/html": "Total execution time: 00:00:00.005"
                    },
                    "metadata": {}
                },
                {
                    "output_type": "execute_result",
                    "metadata": {},
                    "execution_count": 10,
                    "data": {
                        "application/vnd.dataresource+json": {
                            "schema": {
                                "fields": [
                                    {
                                        "name": "ID"
                                    },
                                    {
                                        "name": "ki"
                                    },
                                    {
                                        "name": "mit"
                                    },
                                    {
                                        "name": "ki_datum"
                                    },
                                    {
                                        "name": "vissza_datum"
                                    }
                                ]
                            },
                            "data": [
                                {
                                    "ID": "10",
                                    "ki": "3",
                                    "mit": "5",
                                    "ki_datum": "2003-12-11",
                                    "vissza_datum": "NULL"
                                },
                                {
                                    "ID": "11",
                                    "ki": "4",
                                    "mit": "2",
                                    "ki_datum": "2003-12-11",
                                    "vissza_datum": "NULL"
                                },
                                {
                                    "ID": "12",
                                    "ki": "5",
                                    "mit": "6",
                                    "ki_datum": "2003-12-11",
                                    "vissza_datum": "NULL"
                                }
                            ]
                        },
                        "text/html": [
                            "<table>",
                            "<tr><th>ID</th><th>ki</th><th>mit</th><th>ki_datum</th><th>vissza_datum</th></tr>",
                            "<tr><td>10</td><td>3</td><td>5</td><td>2003-12-11</td><td>NULL</td></tr>",
                            "<tr><td>11</td><td>4</td><td>2</td><td>2003-12-11</td><td>NULL</td></tr>",
                            "<tr><td>12</td><td>5</td><td>6</td><td>2003-12-11</td><td>NULL</td></tr>",
                            "</table>"
                        ]
                    }
                }
            ],
            "execution_count": 10
        },
        {
            "cell_type": "markdown",
            "source": [
                "7. Listázzuk azon diákok nevét és születési idejét, akik 1984-ben vagy 1985-ben születtek!  \n",
                "\n",
                "  \n",
                "\n",
                "a.  A születési dátum csak az évet, hónapot és a napot tartalmazza! \n",
                "\n",
                "b.  A születési dátum oszlopát nevezzük el 'Születési idő'-nek!"
            ],
            "metadata": {
                "azdata_cell_guid": "3aeb6bf5-b111-40d5-92b2-9712ce335696"
            },
            "attachments": {}
        },
        {
            "cell_type": "code",
            "source": [
                "SELECT  Nev,\r\n",
                "        CAST(Szulido AS date) AS 'Születési idő'\r\n",
                "FROM diak\r\n",
                "WHERE YEAR(Szulido) = 1984 OR YEAR(Szulido) = 1985"
            ],
            "metadata": {
                "azdata_cell_guid": "3e89b651-f56f-4102-af52-30eb2bbe360d",
                "language": "sql",
                "tags": []
            },
            "outputs": [
                {
                    "output_type": "display_data",
                    "data": {
                        "text/html": "(3 rows affected)"
                    },
                    "metadata": {}
                },
                {
                    "output_type": "display_data",
                    "data": {
                        "text/html": "Total execution time: 00:00:00.008"
                    },
                    "metadata": {}
                },
                {
                    "output_type": "execute_result",
                    "metadata": {},
                    "execution_count": 14,
                    "data": {
                        "application/vnd.dataresource+json": {
                            "schema": {
                                "fields": [
                                    {
                                        "name": "Nev"
                                    },
                                    {
                                        "name": "Születési idő"
                                    }
                                ]
                            },
                            "data": [
                                {
                                    "Nev": "Kovács Imre",
                                    "Születési idő": "1984-03-02"
                                },
                                {
                                    "Nev": "Kapos Petra",
                                    "Születési idő": "1985-12-23"
                                },
                                {
                                    "Nev": "Koppány Olga",
                                    "Születési idő": "1984-02-28"
                                }
                            ]
                        },
                        "text/html": [
                            "<table>",
                            "<tr><th>Nev</th><th>Születési idő</th></tr>",
                            "<tr><td>Kovács Imre</td><td>1984-03-02</td></tr>",
                            "<tr><td>Kapos Petra</td><td>1985-12-23</td></tr>",
                            "<tr><td>Koppány Olga</td><td>1984-02-28</td></tr>",
                            "</table>"
                        ]
                    }
                }
            ],
            "execution_count": 14
        },
        {
            "cell_type": "markdown",
            "source": [
                "8. Készítsünk lekérdezést, amely a tanulók nevét és az ebből képzett felhasználói nevét tartalmazza. \n",
                "\n",
                "  \n",
                "\n",
                "a.  A felhasználói név álljon a név első kettő, illetve utolsó kettő betűjének összefűzéséből!\n",
                "\n",
                "b.  A listát szűrjük azon tanulókra, akik teljes neve - szóközzel együtt - legalább 10 betűs!"
            ],
            "metadata": {
                "azdata_cell_guid": "26a504dc-ff6a-439f-94c0-4580eca3eacf"
            },
            "attachments": {}
        },
        {
            "cell_type": "code",
            "source": [
                "SELECT LEFT(nev, 2)+RIGHT(nev, 2)\r\n",
                "FROM diak\r\n",
                "WHERE LEN(nev) >= 10"
            ],
            "metadata": {
                "azdata_cell_guid": "1cbb8aeb-78b5-4350-aa45-e3202fdab85b",
                "language": "sql"
            },
            "outputs": [
                {
                    "output_type": "display_data",
                    "data": {
                        "text/html": "(8 rows affected)"
                    },
                    "metadata": {}
                },
                {
                    "output_type": "display_data",
                    "data": {
                        "text/html": "Total execution time: 00:00:00.048"
                    },
                    "metadata": {}
                },
                {
                    "output_type": "execute_result",
                    "metadata": {},
                    "execution_count": 16,
                    "data": {
                        "application/vnd.dataresource+json": {
                            "schema": {
                                "fields": [
                                    {
                                        "name": "(No column name)"
                                    }
                                ]
                            },
                            "data": [
                                {
                                    "(No column name)": "Kore"
                                },
                                {
                                    "(No column name)": "Hoil"
                                },
                                {
                                    "(No column name)": "Kara"
                                },
                                {
                                    "(No column name)": "Csna"
                                },
                                {
                                    "(No column name)": "Nyás"
                                },
                                {
                                    "(No column name)": "Orma"
                                },
                                {
                                    "(No column name)": "Koga"
                                },
                                {
                                    "(No column name)": "Koia"
                                }
                            ]
                        },
                        "text/html": [
                            "<table>",
                            "<tr><th>(No column name)</th></tr>",
                            "<tr><td>Kore</td></tr>",
                            "<tr><td>Hoil</td></tr>",
                            "<tr><td>Kara</td></tr>",
                            "<tr><td>Csna</td></tr>",
                            "<tr><td>Nyás</td></tr>",
                            "<tr><td>Orma</td></tr>",
                            "<tr><td>Koga</td></tr>",
                            "<tr><td>Koia</td></tr>",
                            "</table>"
                        ]
                    }
                }
            ],
            "execution_count": 16
        },
        {
            "cell_type": "markdown",
            "source": [
                "9. Készítsünk listát a diákok adatairól, ahol a diákok neve úgy jelenik meg, hogy először a keresztnév, majd a vezetéknév, közöttük szóközzel!  \n",
                "\n",
                "a.  Ezen felül a születési idő három külön oszlopban jelenjen meg (év, hónap, nap). \n",
                "\n",
                "b.  Az oszlopokat nevezzük el értelemszerűen!"
            ],
            "metadata": {
                "azdata_cell_guid": "435e2860-2dd5-4877-90f4-34a43baeb53c"
            },
            "attachments": {}
        },
        {
            "cell_type": "code",
            "source": [
                ""
            ],
            "metadata": {
                "azdata_cell_guid": "ce846351-ddbe-4d8e-b8fb-2a92c73ac80b",
                "language": "sql"
            },
            "outputs": [],
            "execution_count": null
        },
        {
            "cell_type": "markdown",
            "source": [
                "10. Készítsünk listát a munkák azonosítójáról és megnevezéséről! Egy új oszlopban azt is jelenítsük meg, hogy melyik munka hetente mennyit fizet! \n",
                "\n",
                "a.  Az oszlop neve legyen Heti bér, az értéket kerekítsük 1000 forintra! \n",
                "\n",
                "b.  A listát szűrjük azon rekordokra, ahol a kerekített heti bér 10000 Ft felett van!"
            ],
            "metadata": {
                "azdata_cell_guid": "217c5772-afe2-4a7c-b913-e3a3e09d6411"
            },
            "attachments": {}
        },
        {
            "cell_type": "code",
            "source": [
                "SELECT ROUND(oradij * oraszam * 5, -3) AS 'Heti bér'\r\n",
                "FROM munka\r\n",
                "WHERE ROUND(oradij * oraszam * 5, -3)  > 10000"
            ],
            "metadata": {
                "azdata_cell_guid": "a9cc0926-3dbd-4ed8-8179-1c39d64a0762",
                "language": "sql"
            },
            "outputs": [
                {
                    "output_type": "display_data",
                    "data": {
                        "text/html": "(7 rows affected)"
                    },
                    "metadata": {}
                },
                {
                    "output_type": "display_data",
                    "data": {
                        "text/html": "Total execution time: 00:00:00.006"
                    },
                    "metadata": {}
                },
                {
                    "output_type": "execute_result",
                    "metadata": {},
                    "execution_count": 18,
                    "data": {
                        "application/vnd.dataresource+json": {
                            "schema": {
                                "fields": [
                                    {
                                        "name": "Heti bér"
                                    }
                                ]
                            },
                            "data": [
                                {
                                    "Heti bér": "14000"
                                },
                                {
                                    "Heti bér": "12000"
                                },
                                {
                                    "Heti bér": "14000"
                                },
                                {
                                    "Heti bér": "14000"
                                },
                                {
                                    "Heti bér": "11000"
                                },
                                {
                                    "Heti bér": "11000"
                                },
                                {
                                    "Heti bér": "12000"
                                }
                            ]
                        },
                        "text/html": [
                            "<table>",
                            "<tr><th>Heti bér</th></tr>",
                            "<tr><td>14000</td></tr>",
                            "<tr><td>12000</td></tr>",
                            "<tr><td>14000</td></tr>",
                            "<tr><td>14000</td></tr>",
                            "<tr><td>11000</td></tr>",
                            "<tr><td>11000</td></tr>",
                            "<tr><td>12000</td></tr>",
                            "</table>"
                        ]
                    }
                }
            ],
            "execution_count": 18
        },
        {
            "cell_type": "markdown",
            "source": [
                "11. A diákok számára differenciált béremelést terveznek: a középiskolások esetében 33%, egyéb esetben 17% mértékben. Készítsünk listát, amely tartalmazza a munkák azonosítóját, az állás nevét, az eredeti óradíjat és a tervezett emelt óradíjat.\n",
                "\n",
                "  \n",
                "\n",
                "a.  Az oszlopoknak adjuk nevet értelemszerűen!\n",
                "\n",
                "b.  Az emelt óradíj összegét kerekítsük egészre! (Az esetlegesen megjelenő 0 tizedesjegyekkel ne foglalkozzunk)"
            ],
            "metadata": {
                "azdata_cell_guid": "d2340f5f-1614-473c-b937-85740d67f7c1"
            },
            "attachments": {}
        },
        {
            "cell_type": "code",
            "source": [
                ""
            ],
            "metadata": {
                "azdata_cell_guid": "e99c2c53-898f-4787-b0e6-182d106dc16f",
                "language": "sql"
            },
            "outputs": [],
            "execution_count": null
        },
        {
            "cell_type": "markdown",
            "source": [
                "12. A diákok számára próbaidőt írnak elő, amely a munka kezdetétől számítva 3 hónapig tart.    Jelenítsük meg a munka tábla adatait egy új oszloppal kiegészítve, amelyik a próbaidő    végének dátumát mutatja!  \n",
                "\n",
                "  \n",
                "\n",
                "a.  Az oszlop neve Próbaidő vége legyen! \n",
                "\n",
                "b.  A lista ne tartalmazza azokat a munkákat, ahol a diákok azonosítója nincs megadva!"
            ],
            "metadata": {
                "azdata_cell_guid": "a765e9d6-58b3-4171-872a-78f3118fd6e3"
            },
            "attachments": {}
        },
        {
            "cell_type": "code",
            "source": [
                "SELECT *, DATEADD(MONTH,3,datum) AS 'Próbaidő vége'\r\n",
                "FROM munka\r\n",
                "WHERE DiakAz IS NOT NULL"
            ],
            "metadata": {
                "azdata_cell_guid": "422e8127-b652-4d3a-bfd7-9b1637b5781e",
                "language": "sql"
            },
            "outputs": [
                {
                    "output_type": "display_data",
                    "data": {
                        "text/html": "(31 rows affected)"
                    },
                    "metadata": {}
                },
                {
                    "output_type": "display_data",
                    "data": {
                        "text/html": "Total execution time: 00:00:00.044"
                    },
                    "metadata": {}
                },
                {
                    "output_type": "execute_result",
                    "metadata": {},
                    "execution_count": 19,
                    "data": {
                        "application/vnd.dataresource+json": {
                            "schema": {
                                "fields": [
                                    {
                                        "name": "munkaId"
                                    },
                                    {
                                        "name": "MhelyId"
                                    },
                                    {
                                        "name": "DiakAz"
                                    },
                                    {
                                        "name": "allas"
                                    },
                                    {
                                        "name": "datum"
                                    },
                                    {
                                        "name": "oradij"
                                    },
                                    {
                                        "name": "oraszam"
                                    },
                                    {
                                        "name": "kozepiskolas"
                                    },
                                    {
                                        "name": "Próbaidő vége"
                                    }
                                ]
                            },
                            "data": [
                                {
                                    "munkaId": "1",
                                    "MhelyId": "1",
                                    "DiakAz": "1",
                                    "allas": "kézbesítő",
                                    "datum": "2003-07-02 00:00:00.000",
                                    "oradij": "400",
                                    "oraszam": "4",
                                    "kozepiskolas": "0",
                                    "Próbaidő vége": "2003-10-02 00:00:00.000"
                                },
                                {
                                    "munkaId": "2",
                                    "MhelyId": "1",
                                    "DiakAz": "2",
                                    "allas": "ügyfélszolgálati munkatárs",
                                    "datum": "2003-07-03 00:00:00.000",
                                    "oradij": "300",
                                    "oraszam": "4",
                                    "kozepiskolas": "0",
                                    "Próbaidő vége": "2003-10-03 00:00:00.000"
                                },
                                {
                                    "munkaId": "3",
                                    "MhelyId": "2",
                                    "DiakAz": "1",
                                    "allas": "kisegítő",
                                    "datum": "2003-07-01 00:00:00.000",
                                    "oradij": "500",
                                    "oraszam": "4",
                                    "kozepiskolas": "1",
                                    "Próbaidő vége": "2003-10-01 00:00:00.000"
                                },
                                {
                                    "munkaId": "4",
                                    "MhelyId": "2",
                                    "DiakAz": "2",
                                    "allas": "eladó",
                                    "datum": "2003-07-01 00:00:00.000",
                                    "oradij": "350",
                                    "oraszam": "4",
                                    "kozepiskolas": "0",
                                    "Próbaidő vége": "2003-10-01 00:00:00.000"
                                },
                                {
                                    "munkaId": "5",
                                    "MhelyId": "1",
                                    "DiakAz": "1",
                                    "allas": "kézbesítő",
                                    "datum": "2003-07-03 00:00:00.000",
                                    "oradij": "450",
                                    "oraszam": "6",
                                    "kozepiskolas": "0",
                                    "Próbaidő vége": "2003-10-03 00:00:00.000"
                                },
                                {
                                    "munkaId": "6",
                                    "MhelyId": "1",
                                    "DiakAz": "2",
                                    "allas": "futár",
                                    "datum": "2003-07-06 00:00:00.000",
                                    "oradij": "300",
                                    "oraszam": "5",
                                    "kozepiskolas": "1",
                                    "Próbaidő vége": "2003-10-06 00:00:00.000"
                                },
                                {
                                    "munkaId": "9",
                                    "MhelyId": "9",
                                    "DiakAz": "6",
                                    "allas": "takarító",
                                    "datum": "2003-06-19 00:00:00.000",
                                    "oradij": "400",
                                    "oraszam": "4",
                                    "kozepiskolas": "0",
                                    "Próbaidő vége": "2003-09-19 00:00:00.000"
                                },
                                {
                                    "munkaId": "10",
                                    "MhelyId": "9",
                                    "DiakAz": "6",
                                    "allas": "takarító",
                                    "datum": "2003-06-20 00:00:00.000",
                                    "oradij": "400",
                                    "oraszam": "4",
                                    "kozepiskolas": "0",
                                    "Próbaidő vége": "2003-09-20 00:00:00.000"
                                },
                                {
                                    "munkaId": "11",
                                    "MhelyId": "9",
                                    "DiakAz": "8",
                                    "allas": "kisegítő",
                                    "datum": "2003-06-21 00:00:00.000",
                                    "oradij": "300",
                                    "oraszam": "6",
                                    "kozepiskolas": "1",
                                    "Próbaidő vége": "2003-09-21 00:00:00.000"
                                },
                                {
                                    "munkaId": "12",
                                    "MhelyId": "9",
                                    "DiakAz": "8",
                                    "allas": "kisegítő",
                                    "datum": "2003-06-22 00:00:00.000",
                                    "oradij": "300",
                                    "oraszam": "6",
                                    "kozepiskolas": "1",
                                    "Próbaidő vége": "2003-09-22 00:00:00.000"
                                },
                                {
                                    "munkaId": "13",
                                    "MhelyId": "9",
                                    "DiakAz": "6",
                                    "allas": "takarító",
                                    "datum": "2003-06-23 00:00:00.000",
                                    "oradij": "400",
                                    "oraszam": "4",
                                    "kozepiskolas": "0",
                                    "Próbaidő vége": "2003-09-23 00:00:00.000"
                                },
                                {
                                    "munkaId": "14",
                                    "MhelyId": "6",
                                    "DiakAz": "4",
                                    "allas": "ruhatáros",
                                    "datum": "2003-09-11 00:00:00.000",
                                    "oradij": "400",
                                    "oraszam": "4",
                                    "kozepiskolas": "0",
                                    "Próbaidő vége": "2003-12-11 00:00:00.000"
                                },
                                {
                                    "munkaId": "15",
                                    "MhelyId": "6",
                                    "DiakAz": "7",
                                    "allas": "ruhatáros",
                                    "datum": "2003-09-11 00:00:00.000",
                                    "oradij": "400",
                                    "oraszam": "4",
                                    "kozepiskolas": "0",
                                    "Próbaidő vége": "2003-12-11 00:00:00.000"
                                },
                                {
                                    "munkaId": "16",
                                    "MhelyId": "6",
                                    "DiakAz": "5",
                                    "allas": "pincér",
                                    "datum": "2003-06-11 00:00:00.000",
                                    "oradij": "450",
                                    "oraszam": "6",
                                    "kozepiskolas": "0",
                                    "Próbaidő vége": "2003-09-11 00:00:00.000"
                                },
                                {
                                    "munkaId": "17",
                                    "MhelyId": "6",
                                    "DiakAz": "5",
                                    "allas": "pincér",
                                    "datum": "2003-06-12 00:00:00.000",
                                    "oradij": "450",
                                    "oraszam": "6",
                                    "kozepiskolas": "0",
                                    "Próbaidő vége": "2003-09-12 00:00:00.000"
                                },
                                {
                                    "munkaId": "18",
                                    "MhelyId": "8",
                                    "DiakAz": "9",
                                    "allas": "eladó",
                                    "datum": "2003-07-21 00:00:00.000",
                                    "oradij": "500",
                                    "oraszam": "4",
                                    "kozepiskolas": "0",
                                    "Próbaidő vége": "2003-10-21 00:00:00.000"
                                },
                                {
                                    "munkaId": "19",
                                    "MhelyId": "8",
                                    "DiakAz": "9",
                                    "allas": "eladó",
                                    "datum": "2003-07-22 00:00:00.000",
                                    "oradij": "500",
                                    "oraszam": "4",
                                    "kozepiskolas": "0",
                                    "Próbaidő vége": "2003-10-22 00:00:00.000"
                                },
                                {
                                    "munkaId": "20",
                                    "MhelyId": "8",
                                    "DiakAz": "10",
                                    "allas": "takarító",
                                    "datum": "2003-08-10 00:00:00.000",
                                    "oradij": "350",
                                    "oraszam": "6",
                                    "kozepiskolas": "1",
                                    "Próbaidő vége": "2003-11-10 00:00:00.000"
                                },
                                {
                                    "munkaId": "21",
                                    "MhelyId": "8",
                                    "DiakAz": "10",
                                    "allas": "takarító",
                                    "datum": "2003-08-11 00:00:00.000",
                                    "oradij": "350",
                                    "oraszam": "6",
                                    "kozepiskolas": "1",
                                    "Próbaidő vége": "2003-11-11 00:00:00.000"
                                },
                                {
                                    "munkaId": "22",
                                    "MhelyId": "11",
                                    "DiakAz": "5",
                                    "allas": "eladó",
                                    "datum": "2003-05-10 00:00:00.000",
                                    "oradij": "400",
                                    "oraszam": "4",
                                    "kozepiskolas": "0",
                                    "Próbaidő vége": "2003-08-10 00:00:00.000"
                                },
                                {
                                    "munkaId": "23",
                                    "MhelyId": "11",
                                    "DiakAz": "6",
                                    "allas": "raktáros",
                                    "datum": "2003-05-20 00:00:00.000",
                                    "oradij": "300",
                                    "oraszam": "4",
                                    "kozepiskolas": "0",
                                    "Próbaidő vége": "2003-08-20 00:00:00.000"
                                },
                                {
                                    "munkaId": "24",
                                    "MhelyId": "11",
                                    "DiakAz": "5",
                                    "allas": "eladó",
                                    "datum": "2003-06-23 00:00:00.000",
                                    "oradij": "300",
                                    "oraszam": "6",
                                    "kozepiskolas": "0",
                                    "Próbaidő vége": "2003-09-23 00:00:00.000"
                                },
                                {
                                    "munkaId": "27",
                                    "MhelyId": "10",
                                    "DiakAz": "3",
                                    "allas": "takarító",
                                    "datum": "2003-07-31 00:00:00.000",
                                    "oradij": "300",
                                    "oraszam": "4",
                                    "kozepiskolas": "1",
                                    "Próbaidő vége": "2003-10-31 00:00:00.000"
                                },
                                {
                                    "munkaId": "28",
                                    "MhelyId": "10",
                                    "DiakAz": "3",
                                    "allas": "takarító",
                                    "datum": "2003-08-01 00:00:00.000",
                                    "oradij": "300",
                                    "oraszam": "4",
                                    "kozepiskolas": "1",
                                    "Próbaidő vége": "2003-11-01 00:00:00.000"
                                },
                                {
                                    "munkaId": "29",
                                    "MhelyId": "10",
                                    "DiakAz": "8",
                                    "allas": "eladó",
                                    "datum": "2003-09-12 00:00:00.000",
                                    "oradij": "300",
                                    "oraszam": "6",
                                    "kozepiskolas": "1",
                                    "Próbaidő vége": "2003-12-12 00:00:00.000"
                                },
                                {
                                    "munkaId": "30",
                                    "MhelyId": "10",
                                    "DiakAz": "8",
                                    "allas": "eladó",
                                    "datum": "2003-09-13 00:00:00.000",
                                    "oradij": "300",
                                    "oraszam": "6",
                                    "kozepiskolas": "1",
                                    "Próbaidő vége": "2003-12-13 00:00:00.000"
                                },
                                {
                                    "munkaId": "31",
                                    "MhelyId": "7",
                                    "DiakAz": "8",
                                    "allas": "ruhatáros",
                                    "datum": "2003-08-20 00:00:00.000",
                                    "oradij": "200",
                                    "oraszam": "4",
                                    "kozepiskolas": "1",
                                    "Próbaidő vége": "2003-11-20 00:00:00.000"
                                },
                                {
                                    "munkaId": "32",
                                    "MhelyId": "7",
                                    "DiakAz": "8",
                                    "allas": "ruhatáros",
                                    "datum": "2003-08-21 00:00:00.000",
                                    "oradij": "200",
                                    "oraszam": "4",
                                    "kozepiskolas": "1",
                                    "Próbaidő vége": "2003-11-21 00:00:00.000"
                                },
                                {
                                    "munkaId": "38",
                                    "MhelyId": "5",
                                    "DiakAz": "7",
                                    "allas": "eladó",
                                    "datum": "2003-06-05 00:00:00.000",
                                    "oradij": "400",
                                    "oraszam": "4",
                                    "kozepiskolas": "0",
                                    "Próbaidő vége": "2003-09-05 00:00:00.000"
                                },
                                {
                                    "munkaId": "39",
                                    "MhelyId": "5",
                                    "DiakAz": "7",
                                    "allas": "eladó",
                                    "datum": "2003-06-06 00:00:00.000",
                                    "oradij": "400",
                                    "oraszam": "4",
                                    "kozepiskolas": "0",
                                    "Próbaidő vége": "2003-09-06 00:00:00.000"
                                },
                                {
                                    "munkaId": "40",
                                    "MhelyId": "5",
                                    "DiakAz": "7",
                                    "allas": "eladó",
                                    "datum": "2003-06-07 00:00:00.000",
                                    "oradij": "400",
                                    "oraszam": "4",
                                    "kozepiskolas": "0",
                                    "Próbaidő vége": "2003-09-07 00:00:00.000"
                                }
                            ]
                        },
                        "text/html": [
                            "<table>",
                            "<tr><th>munkaId</th><th>MhelyId</th><th>DiakAz</th><th>allas</th><th>datum</th><th>oradij</th><th>oraszam</th><th>kozepiskolas</th><th>Próbaidő vége</th></tr>",
                            "<tr><td>1</td><td>1</td><td>1</td><td>kézbesítő</td><td>2003-07-02 00:00:00.000</td><td>400</td><td>4</td><td>0</td><td>2003-10-02 00:00:00.000</td></tr>",
                            "<tr><td>2</td><td>1</td><td>2</td><td>ügyfélszolgálati munkatárs</td><td>2003-07-03 00:00:00.000</td><td>300</td><td>4</td><td>0</td><td>2003-10-03 00:00:00.000</td></tr>",
                            "<tr><td>3</td><td>2</td><td>1</td><td>kisegítő</td><td>2003-07-01 00:00:00.000</td><td>500</td><td>4</td><td>1</td><td>2003-10-01 00:00:00.000</td></tr>",
                            "<tr><td>4</td><td>2</td><td>2</td><td>eladó</td><td>2003-07-01 00:00:00.000</td><td>350</td><td>4</td><td>0</td><td>2003-10-01 00:00:00.000</td></tr>",
                            "<tr><td>5</td><td>1</td><td>1</td><td>kézbesítő</td><td>2003-07-03 00:00:00.000</td><td>450</td><td>6</td><td>0</td><td>2003-10-03 00:00:00.000</td></tr>",
                            "<tr><td>6</td><td>1</td><td>2</td><td>futár</td><td>2003-07-06 00:00:00.000</td><td>300</td><td>5</td><td>1</td><td>2003-10-06 00:00:00.000</td></tr>",
                            "<tr><td>9</td><td>9</td><td>6</td><td>takarító</td><td>2003-06-19 00:00:00.000</td><td>400</td><td>4</td><td>0</td><td>2003-09-19 00:00:00.000</td></tr>",
                            "<tr><td>10</td><td>9</td><td>6</td><td>takarító</td><td>2003-06-20 00:00:00.000</td><td>400</td><td>4</td><td>0</td><td>2003-09-20 00:00:00.000</td></tr>",
                            "<tr><td>11</td><td>9</td><td>8</td><td>kisegítő</td><td>2003-06-21 00:00:00.000</td><td>300</td><td>6</td><td>1</td><td>2003-09-21 00:00:00.000</td></tr>",
                            "<tr><td>12</td><td>9</td><td>8</td><td>kisegítő</td><td>2003-06-22 00:00:00.000</td><td>300</td><td>6</td><td>1</td><td>2003-09-22 00:00:00.000</td></tr>",
                            "<tr><td>13</td><td>9</td><td>6</td><td>takarító</td><td>2003-06-23 00:00:00.000</td><td>400</td><td>4</td><td>0</td><td>2003-09-23 00:00:00.000</td></tr>",
                            "<tr><td>14</td><td>6</td><td>4</td><td>ruhatáros</td><td>2003-09-11 00:00:00.000</td><td>400</td><td>4</td><td>0</td><td>2003-12-11 00:00:00.000</td></tr>",
                            "<tr><td>15</td><td>6</td><td>7</td><td>ruhatáros</td><td>2003-09-11 00:00:00.000</td><td>400</td><td>4</td><td>0</td><td>2003-12-11 00:00:00.000</td></tr>",
                            "<tr><td>16</td><td>6</td><td>5</td><td>pincér</td><td>2003-06-11 00:00:00.000</td><td>450</td><td>6</td><td>0</td><td>2003-09-11 00:00:00.000</td></tr>",
                            "<tr><td>17</td><td>6</td><td>5</td><td>pincér</td><td>2003-06-12 00:00:00.000</td><td>450</td><td>6</td><td>0</td><td>2003-09-12 00:00:00.000</td></tr>",
                            "<tr><td>18</td><td>8</td><td>9</td><td>eladó</td><td>2003-07-21 00:00:00.000</td><td>500</td><td>4</td><td>0</td><td>2003-10-21 00:00:00.000</td></tr>",
                            "<tr><td>19</td><td>8</td><td>9</td><td>eladó</td><td>2003-07-22 00:00:00.000</td><td>500</td><td>4</td><td>0</td><td>2003-10-22 00:00:00.000</td></tr>",
                            "<tr><td>20</td><td>8</td><td>10</td><td>takarító</td><td>2003-08-10 00:00:00.000</td><td>350</td><td>6</td><td>1</td><td>2003-11-10 00:00:00.000</td></tr>",
                            "<tr><td>21</td><td>8</td><td>10</td><td>takarító</td><td>2003-08-11 00:00:00.000</td><td>350</td><td>6</td><td>1</td><td>2003-11-11 00:00:00.000</td></tr>",
                            "<tr><td>22</td><td>11</td><td>5</td><td>eladó</td><td>2003-05-10 00:00:00.000</td><td>400</td><td>4</td><td>0</td><td>2003-08-10 00:00:00.000</td></tr>",
                            "<tr><td>23</td><td>11</td><td>6</td><td>raktáros</td><td>2003-05-20 00:00:00.000</td><td>300</td><td>4</td><td>0</td><td>2003-08-20 00:00:00.000</td></tr>",
                            "<tr><td>24</td><td>11</td><td>5</td><td>eladó</td><td>2003-06-23 00:00:00.000</td><td>300</td><td>6</td><td>0</td><td>2003-09-23 00:00:00.000</td></tr>",
                            "<tr><td>27</td><td>10</td><td>3</td><td>takarító</td><td>2003-07-31 00:00:00.000</td><td>300</td><td>4</td><td>1</td><td>2003-10-31 00:00:00.000</td></tr>",
                            "<tr><td>28</td><td>10</td><td>3</td><td>takarító</td><td>2003-08-01 00:00:00.000</td><td>300</td><td>4</td><td>1</td><td>2003-11-01 00:00:00.000</td></tr>",
                            "<tr><td>29</td><td>10</td><td>8</td><td>eladó</td><td>2003-09-12 00:00:00.000</td><td>300</td><td>6</td><td>1</td><td>2003-12-12 00:00:00.000</td></tr>",
                            "<tr><td>30</td><td>10</td><td>8</td><td>eladó</td><td>2003-09-13 00:00:00.000</td><td>300</td><td>6</td><td>1</td><td>2003-12-13 00:00:00.000</td></tr>",
                            "<tr><td>31</td><td>7</td><td>8</td><td>ruhatáros</td><td>2003-08-20 00:00:00.000</td><td>200</td><td>4</td><td>1</td><td>2003-11-20 00:00:00.000</td></tr>",
                            "<tr><td>32</td><td>7</td><td>8</td><td>ruhatáros</td><td>2003-08-21 00:00:00.000</td><td>200</td><td>4</td><td>1</td><td>2003-11-21 00:00:00.000</td></tr>",
                            "<tr><td>38</td><td>5</td><td>7</td><td>eladó</td><td>2003-06-05 00:00:00.000</td><td>400</td><td>4</td><td>0</td><td>2003-09-05 00:00:00.000</td></tr>",
                            "<tr><td>39</td><td>5</td><td>7</td><td>eladó</td><td>2003-06-06 00:00:00.000</td><td>400</td><td>4</td><td>0</td><td>2003-09-06 00:00:00.000</td></tr>",
                            "<tr><td>40</td><td>5</td><td>7</td><td>eladó</td><td>2003-06-07 00:00:00.000</td><td>400</td><td>4</td><td>0</td><td>2003-09-07 00:00:00.000</td></tr>",
                            "</table>"
                        ]
                    }
                }
            ],
            "execution_count": 19
        },
        {
            "cell_type": "markdown",
            "source": [
                "13. Készítsünk listát a munkák azonosítóiról és a megnevezésükről! A megnevezés allas-óraszám formában jelenjen meg, pl: eladó-4. \n",
                "\n",
                "  \n",
                "\n",
                "a.  Jelenítsük meg a dátumot is, de csak a évet és a hónapot, pl: 2003-07! \n",
                "\n",
                "b.  Ennek az oszlopnak 'Kezdés hónapja' legyen a neve! A listát szűrjük a nyári hónapokra!"
            ],
            "metadata": {
                "azdata_cell_guid": "3f9237ae-f109-401c-acb9-31d75e73331b"
            },
            "attachments": {}
        },
        {
            "cell_type": "code",
            "source": [
                ""
            ],
            "metadata": {
                "azdata_cell_guid": "4b31bb89-cfbc-46b1-8639-85c462877786",
                "language": "sql"
            },
            "outputs": [],
            "execution_count": null
        },
        {
            "cell_type": "markdown",
            "source": [
                "14. Készítsünk listát a diákok adatairól, amely a Nev oszlop helyén a diák monogramját jeleníti meg (keresztnév, illetve vezetéknév első betűje összefűzve). \n",
                "\n",
                "a.  A listát szűrjük 1983.01.01 és 1987.06.01 között született diákokra!"
            ],
            "metadata": {
                "azdata_cell_guid": "f634e09a-85ef-4e70-8ec6-ef355dfddaa7"
            },
            "attachments": {}
        },
        {
            "cell_type": "code",
            "source": [
                ""
            ],
            "metadata": {
                "azdata_cell_guid": "88abc55b-2c78-495b-a72f-3f8f4eb5fe70",
                "language": "sql"
            },
            "outputs": [],
            "execution_count": null
        },
        {
            "cell_type": "markdown",
            "source": [
                "15. A diákok a munkakezdés évének utolsó napján bónuszt kapnak, amennyiben az adott évben legalább 6 hónapot dolgoznak. \n",
                "\n",
                "  \n",
                "\n",
                "a.  Jelenítsük meg, hogy az egyes munkák adatait, egy új oszlopban az éves bónusz napját is 'Bónusz dátum' néven! \n",
                "\n",
                "b.  A lista csak a bónuszra jogosultak adatait tartalmazza!"
            ],
            "metadata": {
                "azdata_cell_guid": "4cbf2f0d-a65d-480a-8186-ccdb24498443"
            },
            "attachments": {}
        },
        {
            "cell_type": "code",
            "source": [
                ""
            ],
            "metadata": {
                "azdata_cell_guid": "c148aee8-bc85-40bf-b80a-a4898a6c05cb",
                "language": "sql"
            },
            "outputs": [],
            "execution_count": null
        }
    ]
}