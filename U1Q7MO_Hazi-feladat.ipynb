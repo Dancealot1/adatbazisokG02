{
 "cells": [
  {
   "cell_type": "markdown",
   "metadata": {},
   "source": [
    "NULL értékek száma és aránya az oszlopokban"
   ]
  },
  {
   "cell_type": "code",
   "execution_count": null,
   "metadata": {
    "vscode": {
     "languageId": "sql"
    }
   },
   "outputs": [],
   "source": [
    "SELECT \n",
    "    COUNT(*) AS osszes_sor,\n",
    "    SUM(CASE WHEN KAT_ID IS NULL THEN 1 ELSE 0 END) AS kat_id_null_db,\n",
    "    ROUND(100 * SUM(CASE WHEN KAT_ID IS NULL THEN 1 ELSE 0 END) / COUNT(*), 2) AS kat_id_null_szazalek,\n",
    "    SUM(CASE WHEN LEIRAS IS NULL THEN 1 ELSE 0 END) AS leiras_null_db,\n",
    "    ROUND(100 * SUM(CASE WHEN LEIRAS IS NULL THEN 1 ELSE 0 END) / COUNT(*), 2) AS leiras_null_szazalek\n",
    "FROM TERMEK;\n"
   ]
  },
  {
   "cell_type": "markdown",
   "metadata": {},
   "source": [
    "Legkisebb, legnagyobb és átlagos értékek egy numerikus oszlopra (LISTAAR)"
   ]
  },
  {
   "cell_type": "code",
   "execution_count": null,
   "metadata": {
    "vscode": {
     "languageId": "sql"
    }
   },
   "outputs": [],
   "source": [
    "SELECT \n",
    "    MIN(LISTAAR) AS legkisebb_ertek,\n",
    "    MAX(LISTAAR) AS legnagyobb_ertek,\n",
    "    AVG(LISTAAR) AS atlagos_ertek\n",
    "FROM TERMEK;\n"
   ]
  },
  {
   "cell_type": "markdown",
   "metadata": {},
   "source": [
    "Értékek eloszlása egy kategóriás oszlopban (MEGNEVEZES)"
   ]
  },
  {
   "cell_type": "code",
   "execution_count": null,
   "metadata": {
    "vscode": {
     "languageId": "sql"
    }
   },
   "outputs": [],
   "source": [
    "SELECT MEGNEVEZES, COUNT(*) AS darabszam\n",
    "FROM TERMEK\n",
    "GROUP BY MEGNEVEZES\n",
    "ORDER BY darabszam DESC;\n"
   ]
  }
 ],
 "metadata": {
  "language_info": {
   "name": "python"
  }
 },
 "nbformat": 4,
 "nbformat_minor": 2
}
