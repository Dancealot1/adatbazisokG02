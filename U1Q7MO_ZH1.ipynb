{
    "metadata": {
        "kernelspec": {
            "name": "SQL",
            "display_name": "SQL",
            "language": "sql"
        },
        "language_info": {
            "name": "sql",
            "version": ""
        }
    },
    "nbformat_minor": 2,
    "nbformat": 4,
    "cells": [
        {
            "cell_type": "code",
            "source": [
                "-- feladat 1\r\n",
                "\r\n",
                "SELECT  DATEDIFF(YEAR,SZUL_DAT ,GETDATE()) as 'Életkor',\r\n",
                "        COUNT(*) as 'Létszám'\r\n",
                "FROM Vendeg\r\n",
                "WHERE DATEDIFF(YEAR,SZUL_DAT ,GETDATE()) >= 18\r\n",
                "GROUP BY DATEDIFF(YEAR,SZUL_DAT ,GETDATE())\r\n",
                "HAVING COUNT(*) >= 5"
            ],
            "metadata": {
                "azdata_cell_guid": "5bdb6f04-b9a2-4db4-89a9-ff8601ccdc94",
                "language": "sql"
            },
            "outputs": [
                {
                    "output_type": "display_data",
                    "data": {
                        "text/html": "(23 rows affected)"
                    },
                    "metadata": {}
                },
                {
                    "output_type": "display_data",
                    "data": {
                        "text/html": "Total execution time: 00:00:00.012"
                    },
                    "metadata": {}
                },
                {
                    "output_type": "execute_result",
                    "metadata": {},
                    "execution_count": 8,
                    "data": {
                        "application/vnd.dataresource+json": {
                            "schema": {
                                "fields": [
                                    {
                                        "name": "Életkor"
                                    },
                                    {
                                        "name": "Létszám"
                                    }
                                ]
                            },
                            "data": [
                                {
                                    "Életkor": "28",
                                    "Létszám": "12"
                                },
                                {
                                    "Életkor": "29",
                                    "Létszám": "7"
                                },
                                {
                                    "Életkor": "30",
                                    "Létszám": "6"
                                },
                                {
                                    "Életkor": "32",
                                    "Létszám": "5"
                                },
                                {
                                    "Életkor": "34",
                                    "Létszám": "6"
                                },
                                {
                                    "Életkor": "35",
                                    "Létszám": "8"
                                },
                                {
                                    "Életkor": "36",
                                    "Létszám": "7"
                                },
                                {
                                    "Életkor": "37",
                                    "Létszám": "6"
                                },
                                {
                                    "Életkor": "38",
                                    "Létszám": "5"
                                },
                                {
                                    "Életkor": "39",
                                    "Létszám": "9"
                                },
                                {
                                    "Életkor": "40",
                                    "Létszám": "6"
                                },
                                {
                                    "Életkor": "41",
                                    "Létszám": "8"
                                },
                                {
                                    "Életkor": "42",
                                    "Létszám": "8"
                                },
                                {
                                    "Életkor": "45",
                                    "Létszám": "7"
                                },
                                {
                                    "Életkor": "46",
                                    "Létszám": "7"
                                },
                                {
                                    "Életkor": "47",
                                    "Létszám": "7"
                                },
                                {
                                    "Életkor": "48",
                                    "Létszám": "5"
                                },
                                {
                                    "Életkor": "49",
                                    "Létszám": "7"
                                },
                                {
                                    "Életkor": "50",
                                    "Létszám": "10"
                                },
                                {
                                    "Életkor": "54",
                                    "Létszám": "5"
                                },
                                {
                                    "Életkor": "56",
                                    "Létszám": "8"
                                },
                                {
                                    "Életkor": "57",
                                    "Létszám": "7"
                                },
                                {
                                    "Életkor": "58",
                                    "Létszám": "8"
                                }
                            ]
                        },
                        "text/html": [
                            "<table>",
                            "<tr><th>Életkor</th><th>Létszám</th></tr>",
                            "<tr><td>28</td><td>12</td></tr>",
                            "<tr><td>29</td><td>7</td></tr>",
                            "<tr><td>30</td><td>6</td></tr>",
                            "<tr><td>32</td><td>5</td></tr>",
                            "<tr><td>34</td><td>6</td></tr>",
                            "<tr><td>35</td><td>8</td></tr>",
                            "<tr><td>36</td><td>7</td></tr>",
                            "<tr><td>37</td><td>6</td></tr>",
                            "<tr><td>38</td><td>5</td></tr>",
                            "<tr><td>39</td><td>9</td></tr>",
                            "<tr><td>40</td><td>6</td></tr>",
                            "<tr><td>41</td><td>8</td></tr>",
                            "<tr><td>42</td><td>8</td></tr>",
                            "<tr><td>45</td><td>7</td></tr>",
                            "<tr><td>46</td><td>7</td></tr>",
                            "<tr><td>47</td><td>7</td></tr>",
                            "<tr><td>48</td><td>5</td></tr>",
                            "<tr><td>49</td><td>7</td></tr>",
                            "<tr><td>50</td><td>10</td></tr>",
                            "<tr><td>54</td><td>5</td></tr>",
                            "<tr><td>56</td><td>8</td></tr>",
                            "<tr><td>57</td><td>7</td></tr>",
                            "<tr><td>58</td><td>8</td></tr>",
                            "</table>"
                        ]
                    }
                }
            ],
            "execution_count": 8
        },
        {
            "cell_type": "code",
            "source": [
                "-- feladat 2\r\n",
                "\r\n",
                "SELECT  YEAR(f.METTOL) as 'Év',\r\n",
                "        sz.SZOBA_ID as 'Szoba azonosítója',\r\n",
                "        count(*) as 'Szoba db szám'   \r\n",
                "FROM Foglalas f JOIN Szoba sz ON f.SZOBA_FK = sz.SZOBA_ID\r\n",
                "WHERE sz.SZOBA_SZAMA % 2 <> 0\r\n",
                "GROUP BY YEAR(f.METTOL), sz.SZOBA_ID\r\n",
                "HAVING  count(*) > 10\r\n",
                "\r\n",
                "\r\n",
                ""
            ],
            "metadata": {
                "language": "sql",
                "azdata_cell_guid": "8d5687db-3bbf-435a-8862-e8428df638b8"
            },
            "outputs": [
                {
                    "output_type": "display_data",
                    "data": {
                        "text/html": "(1 row affected)"
                    },
                    "metadata": {}
                },
                {
                    "output_type": "display_data",
                    "data": {
                        "text/html": "Total execution time: 00:00:00.017"
                    },
                    "metadata": {}
                },
                {
                    "output_type": "execute_result",
                    "metadata": {},
                    "execution_count": 29,
                    "data": {
                        "application/vnd.dataresource+json": {
                            "schema": {
                                "fields": [
                                    {
                                        "name": "Év"
                                    },
                                    {
                                        "name": "Szoba azonosítója"
                                    },
                                    {
                                        "name": "Szoba db szám"
                                    }
                                ]
                            },
                            "data": [
                                {
                                    "Év": "2016",
                                    "Szoba azonosítója": "58",
                                    "Szoba db szám": "12"
                                }
                            ]
                        },
                        "text/html": [
                            "<table>",
                            "<tr><th>Év</th><th>Szoba azonosítója</th><th>Szoba db szám</th></tr>",
                            "<tr><td>2016</td><td>58</td><td>12</td></tr>",
                            "</table>"
                        ]
                    }
                }
            ],
            "execution_count": 29
        }
    ]
}